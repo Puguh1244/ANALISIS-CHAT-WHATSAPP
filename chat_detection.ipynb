{
 "cells": [
  {
   "cell_type": "markdown",
   "id": "b290ea53",
   "metadata": {},
   "source": [
    "## BACA TEKS"
   ]
  },
  {
   "cell_type": "code",
   "execution_count": 1,
   "id": "0f1fee87",
   "metadata": {},
   "outputs": [
    {
     "name": "stdout",
     "output_type": "stream",
     "text": [
      "Total baris: 56704\n",
      "                                             RawLine\n",
      "0            02/01/25, 8:27 pm - via: btw pos brp?\\n\n",
      "1             02/01/25, 8:29 pm - Puguh UKKI'23: 4\\n\n",
      "2  02/01/25, 8:31 pm - Puguh UKKI'23: sampeyan ju...\n",
      "3                  02/01/25, 8:33 pm - via: pgpaud\\n\n",
      "4         02/01/25, 8:33 pm - via: smn jurusan op?\\n\n",
      "5  02/01/25, 8:34 pm - Puguh UKKI'23: Sains data ...\n",
      "6                    02/01/25, 8:36 pm - via: wihh\\n\n",
      "7   02/01/25, 8:36 pm - Puguh UKKI'23: Pgpaud fip?\\n\n",
      "8                   02/01/25, 8:36 pm - via: benar\\n\n",
      "9          02/01/25, 8:36 pm - Puguh UKKI'23: Hmmm\\n\n"
     ]
    }
   ],
   "source": [
    "import pandas as pd\n",
    "\n",
    "# baca file baris demi baris\n",
    "with open(\"whatsapp_chat.txt\", \"r\", encoding=\"utf-8\") as f:\n",
    "    lines = f.readlines()\n",
    "\n",
    "# langsung bikin DataFrame dari list of lines\n",
    "df_raw = pd.DataFrame(lines, columns=[\"RawLine\"])\n",
    "\n",
    "print(\"Total baris:\", len(df_raw))\n",
    "print(df_raw.head(10))\n"
   ]
  },
  {
   "cell_type": "markdown",
   "id": "2f7b6856",
   "metadata": {},
   "source": [
    "## PISAHKAN KOLOM "
   ]
  },
  {
   "cell_type": "code",
   "execution_count": 2,
   "id": "c30fc398",
   "metadata": {},
   "outputs": [
    {
     "name": "stderr",
     "output_type": "stream",
     "text": [
      "C:\\Users\\puguh\\AppData\\Local\\Temp\\ipykernel_14444\\626020823.py:33: UserWarning: Could not infer format, so each element will be parsed individually, falling back to `dateutil`. To ensure parsing is consistent and as-expected, please specify a format.\n",
      "  df[\"Datetime\"] = pd.to_datetime(df[\"TanggalJam\"], dayfirst=True, errors=\"coerce\")\n"
     ]
    },
    {
     "name": "stdout",
     "output_type": "stream",
     "text": [
      "                            TanggalJam           Nama                  Chat\n",
      "Datetime                                                                   \n",
      "2025-01-02 20:27:00  02/01/25, 8:27 pm            via          btw pos brp?\n",
      "2025-01-02 20:29:00  02/01/25, 8:29 pm  Puguh UKKI'23                     4\n",
      "2025-01-02 20:31:00  02/01/25, 8:31 pm  Puguh UKKI'23  sampeyan juursan apa\n",
      "2025-01-02 20:33:00  02/01/25, 8:33 pm            via                pgpaud\n",
      "2025-01-02 20:33:00  02/01/25, 8:33 pm            via       smn jurusan op?\n",
      "2025-01-02 20:34:00  02/01/25, 8:34 pm  Puguh UKKI'23      Sains data fmipa\n",
      "2025-01-02 20:36:00  02/01/25, 8:36 pm            via                  wihh\n",
      "2025-01-02 20:36:00  02/01/25, 8:36 pm  Puguh UKKI'23           Pgpaud fip?\n",
      "2025-01-02 20:36:00  02/01/25, 8:36 pm            via                 benar\n",
      "2025-01-02 20:36:00  02/01/25, 8:36 pm  Puguh UKKI'23                  Hmmm\n"
     ]
    }
   ],
   "source": [
    "import re\n",
    "rows = []\n",
    "current = None  # untuk menyimpan pesan aktif\n",
    "\n",
    "# regex sederhana: baris yang dimulai dengan tanggal/jam\n",
    "pattern = re.compile(r\"^\\d{1,2}/\\d{1,2}/\\d{2,4},\\s*\\d{1,2}[:.]\\d{2}(?:\\s?[ap]m)? - .+?: \")\n",
    "\n",
    "for line in df_raw[\"RawLine\"]:\n",
    "    line = line.strip()\n",
    "    if pattern.match(line):  \n",
    "        # simpan pesan lama\n",
    "        if current:\n",
    "            rows.append(current)\n",
    "        # pisahkan datetime dan isi\n",
    "        date_time, rest = line.split(\" - \", 1)\n",
    "        if \": \" in rest:\n",
    "            name, chat = rest.split(\": \", 1)\n",
    "        else:\n",
    "            name, chat = rest, \"\"\n",
    "        current = [date_time, name.strip(), chat.strip()]\n",
    "    else:\n",
    "        # ini baris lanjutan → gabungkan ke chat sebelumnya\n",
    "        if current:\n",
    "            current[2] += \" \" + line\n",
    "\n",
    "# jangan lupa simpan pesan terakhir\n",
    "if current:\n",
    "    rows.append(current)\n",
    "\n",
    "df = pd.DataFrame(rows, columns=[\"TanggalJam\", \"Nama\", \"Chat\"])\n",
    "\n",
    "# ubah ke datetime\n",
    "df[\"Datetime\"] = pd.to_datetime(df[\"TanggalJam\"], dayfirst=True, errors=\"coerce\")\n",
    "df = df.dropna(subset=[\"Datetime\"]).set_index(\"Datetime\").sort_index()\n",
    "\n",
    "print(df.head(10))\n"
   ]
  },
  {
   "cell_type": "markdown",
   "id": "101a9e98",
   "metadata": {},
   "source": [
    "## UBAH DATETIME"
   ]
  },
  {
   "cell_type": "code",
   "execution_count": 3,
   "id": "e664d1a0",
   "metadata": {},
   "outputs": [
    {
     "name": "stderr",
     "output_type": "stream",
     "text": [
      "C:\\Users\\puguh\\AppData\\Local\\Temp\\ipykernel_14444\\4152168504.py:1: UserWarning: Could not infer format, so each element will be parsed individually, falling back to `dateutil`. To ensure parsing is consistent and as-expected, please specify a format.\n",
      "  df[\"Datetime\"] = pd.to_datetime(df[\"TanggalJam\"], dayfirst=True)\n"
     ]
    },
    {
     "name": "stdout",
     "output_type": "stream",
     "text": [
      "                            TanggalJam           Nama                  Chat\n",
      "Datetime                                                                   \n",
      "2025-01-02 20:27:00  02/01/25, 8:27 pm            via          btw pos brp?\n",
      "2025-01-02 20:29:00  02/01/25, 8:29 pm  Puguh UKKI'23                     4\n",
      "2025-01-02 20:31:00  02/01/25, 8:31 pm  Puguh UKKI'23  sampeyan juursan apa\n",
      "2025-01-02 20:33:00  02/01/25, 8:33 pm            via                pgpaud\n",
      "2025-01-02 20:33:00  02/01/25, 8:33 pm            via       smn jurusan op?\n"
     ]
    }
   ],
   "source": [
    "\n",
    "df[\"Datetime\"] = pd.to_datetime(df[\"TanggalJam\"], dayfirst=True)\n",
    "\n",
    "# set index biar siap untuk time series\n",
    "df = df.set_index(\"Datetime\").sort_index()\n",
    "\n",
    "print(df.head())"
   ]
  },
  {
   "cell_type": "code",
   "execution_count": 4,
   "id": "506ce9ef",
   "metadata": {},
   "outputs": [],
   "source": [
    "# drop kolom tanggal jam \n",
    "df = df.drop(columns=[\"TanggalJam\"])"
   ]
  },
  {
   "cell_type": "code",
   "execution_count": 5,
   "id": "c83fe1c6",
   "metadata": {},
   "outputs": [
    {
     "data": {
      "text/html": [
       "<div>\n",
       "<style scoped>\n",
       "    .dataframe tbody tr th:only-of-type {\n",
       "        vertical-align: middle;\n",
       "    }\n",
       "\n",
       "    .dataframe tbody tr th {\n",
       "        vertical-align: top;\n",
       "    }\n",
       "\n",
       "    .dataframe thead th {\n",
       "        text-align: right;\n",
       "    }\n",
       "</style>\n",
       "<table border=\"1\" class=\"dataframe\">\n",
       "  <thead>\n",
       "    <tr style=\"text-align: right;\">\n",
       "      <th></th>\n",
       "      <th>Nama</th>\n",
       "      <th>Chat</th>\n",
       "    </tr>\n",
       "    <tr>\n",
       "      <th>Datetime</th>\n",
       "      <th></th>\n",
       "      <th></th>\n",
       "    </tr>\n",
       "  </thead>\n",
       "  <tbody>\n",
       "    <tr>\n",
       "      <th>2025-01-02 20:27:00</th>\n",
       "      <td>via</td>\n",
       "      <td>btw pos brp?</td>\n",
       "    </tr>\n",
       "    <tr>\n",
       "      <th>2025-01-02 20:29:00</th>\n",
       "      <td>Puguh UKKI'23</td>\n",
       "      <td>4</td>\n",
       "    </tr>\n",
       "    <tr>\n",
       "      <th>2025-01-02 20:31:00</th>\n",
       "      <td>Puguh UKKI'23</td>\n",
       "      <td>sampeyan juursan apa</td>\n",
       "    </tr>\n",
       "    <tr>\n",
       "      <th>2025-01-02 20:33:00</th>\n",
       "      <td>via</td>\n",
       "      <td>pgpaud</td>\n",
       "    </tr>\n",
       "    <tr>\n",
       "      <th>2025-01-02 20:33:00</th>\n",
       "      <td>via</td>\n",
       "      <td>smn jurusan op?</td>\n",
       "    </tr>\n",
       "  </tbody>\n",
       "</table>\n",
       "</div>"
      ],
      "text/plain": [
       "                              Nama                  Chat\n",
       "Datetime                                                \n",
       "2025-01-02 20:27:00            via          btw pos brp?\n",
       "2025-01-02 20:29:00  Puguh UKKI'23                     4\n",
       "2025-01-02 20:31:00  Puguh UKKI'23  sampeyan juursan apa\n",
       "2025-01-02 20:33:00            via                pgpaud\n",
       "2025-01-02 20:33:00            via       smn jurusan op?"
      ]
     },
     "execution_count": 5,
     "metadata": {},
     "output_type": "execute_result"
    }
   ],
   "source": [
    "df.head()"
   ]
  },
  {
   "cell_type": "code",
   "execution_count": 6,
   "id": "307732ce",
   "metadata": {},
   "outputs": [
    {
     "name": "stdout",
     "output_type": "stream",
     "text": [
      "<class 'pandas.core.frame.DataFrame'>\n",
      "DatetimeIndex: 54581 entries, 2025-01-02 20:27:00 to 2025-08-26 10:15:00\n",
      "Data columns (total 2 columns):\n",
      " #   Column  Non-Null Count  Dtype \n",
      "---  ------  --------------  ----- \n",
      " 0   Nama    54581 non-null  object\n",
      " 1   Chat    54581 non-null  object\n",
      "dtypes: object(2)\n",
      "memory usage: 1.2+ MB\n"
     ]
    }
   ],
   "source": [
    "df.info()"
   ]
  },
  {
   "cell_type": "markdown",
   "id": "4b08ad4a",
   "metadata": {},
   "source": [
    "## PREPARATION"
   ]
  },
  {
   "cell_type": "code",
   "execution_count": 7,
   "id": "856d0d78",
   "metadata": {},
   "outputs": [
    {
     "name": "stdout",
     "output_type": "stream",
     "text": [
      "Total pesan setelah pembersihan: 53452\n",
      "                              Nama                  Chat\n",
      "Datetime                                                \n",
      "2025-01-02 20:27:00            via           btw pos brp\n",
      "2025-01-02 20:29:00  Puguh UKKI'23                     4\n",
      "2025-01-02 20:31:00  Puguh UKKI'23  sampeyan juursan apa\n",
      "2025-01-02 20:33:00            via                pgpaud\n",
      "2025-01-02 20:33:00            via        smn jurusan op\n",
      "2025-01-02 20:34:00  Puguh UKKI'23      Sains data fmipa\n",
      "2025-01-02 20:36:00            via                  wihh\n",
      "2025-01-02 20:36:00  Puguh UKKI'23            Pgpaud fip\n",
      "2025-01-02 20:36:00            via                 benar\n",
      "2025-01-02 20:36:00  Puguh UKKI'23                  Hmmm\n"
     ]
    }
   ],
   "source": [
    "import string\n",
    "\n",
    "# regex emoji\n",
    "emoji_pattern = re.compile(\n",
    "    \"[\" \n",
    "    \"\\U0001F600-\\U0001F64F\"\n",
    "    \"\\U0001F300-\\U0001F5FF\"\n",
    "    \"\\U0001F680-\\U0001F6FF\"\n",
    "    \"\\U0001F1E0-\\U0001F1FF\"\n",
    "    \"\\U00002700-\\U000027BF\"\n",
    "    \"\\U0001F900-\\U0001F9FF\"\n",
    "    \"\\U00002600-\\U000026FF\"\n",
    "    \"\\U00002B00-\\U00002BFF\"\n",
    "    \"\\U00002300-\\U000023FF\"\n",
    "    \"]+\", flags=re.UNICODE\n",
    ")\n",
    "\n",
    "# regex link\n",
    "url_pattern = re.compile(r\"http\\S+|www\\.\\S+\")\n",
    "\n",
    "def clean_text(text: str) -> str:\n",
    "    text = str(text)\n",
    "    text = url_pattern.sub(\"\", text)  # hapus link\n",
    "    text = emoji_pattern.sub(\"\", text)  # hapus emoji\n",
    "    text = text.translate(str.maketrans(\"\", \"\", string.punctuation))  # hapus tanda baca\n",
    "    text = re.sub(r\"\\s+\", \" \", text)  # rapikan whitespace jadi 1 spasi\n",
    "    return text.strip()  # hilangkan spasi awal & akhir\n",
    "\n",
    "# terapkan\n",
    "df[\"Chat\"] = df[\"Chat\"].apply(clean_text)\n",
    "\n",
    "# buang baris kosong\n",
    "df = df[df[\"Chat\"].ne(\"\")]\n",
    "\n",
    "print(\"Total pesan setelah pembersihan:\", len(df))\n",
    "print(df.head(10))\n"
   ]
  },
  {
   "cell_type": "markdown",
   "id": "5a414c0f",
   "metadata": {},
   "source": [
    "## analisis time"
   ]
  },
  {
   "cell_type": "code",
   "execution_count": 31,
   "id": "e9455537",
   "metadata": {},
   "outputs": [
    {
     "data": {
      "application/vnd.plotly.v1+json": {
       "config": {
        "plotlyServerURL": "https://plot.ly"
       },
       "data": [
        {
         "hovertemplate": "Tanggal=%{x}<br>Jumlah Pesan=%{y}<extra></extra>",
         "legendgroup": "",
         "line": {
          "color": "#636efa",
          "dash": "solid"
         },
         "marker": {
          "symbol": "circle"
         },
         "mode": "lines+markers",
         "name": "",
         "orientation": "v",
         "showlegend": false,
         "type": "scatter",
         "x": [
          "2025-01-02T00:00:00.000000000",
          "2025-01-03T00:00:00.000000000",
          "2025-01-04T00:00:00.000000000",
          "2025-01-05T00:00:00.000000000",
          "2025-01-06T00:00:00.000000000",
          "2025-01-07T00:00:00.000000000",
          "2025-01-08T00:00:00.000000000",
          "2025-01-09T00:00:00.000000000",
          "2025-01-10T00:00:00.000000000",
          "2025-01-11T00:00:00.000000000",
          "2025-01-12T00:00:00.000000000",
          "2025-01-13T00:00:00.000000000",
          "2025-01-14T00:00:00.000000000",
          "2025-01-15T00:00:00.000000000",
          "2025-01-16T00:00:00.000000000",
          "2025-01-17T00:00:00.000000000",
          "2025-01-18T00:00:00.000000000",
          "2025-01-19T00:00:00.000000000",
          "2025-01-20T00:00:00.000000000",
          "2025-01-21T00:00:00.000000000",
          "2025-01-22T00:00:00.000000000",
          "2025-01-23T00:00:00.000000000",
          "2025-01-24T00:00:00.000000000",
          "2025-01-25T00:00:00.000000000",
          "2025-01-26T00:00:00.000000000",
          "2025-01-27T00:00:00.000000000",
          "2025-01-28T00:00:00.000000000",
          "2025-01-29T00:00:00.000000000",
          "2025-01-30T00:00:00.000000000",
          "2025-01-31T00:00:00.000000000",
          "2025-02-01T00:00:00.000000000",
          "2025-02-02T00:00:00.000000000",
          "2025-02-03T00:00:00.000000000",
          "2025-02-04T00:00:00.000000000",
          "2025-02-05T00:00:00.000000000",
          "2025-02-06T00:00:00.000000000",
          "2025-02-07T00:00:00.000000000",
          "2025-02-08T00:00:00.000000000",
          "2025-02-09T00:00:00.000000000",
          "2025-02-10T00:00:00.000000000",
          "2025-02-11T00:00:00.000000000",
          "2025-02-12T00:00:00.000000000",
          "2025-02-13T00:00:00.000000000",
          "2025-02-14T00:00:00.000000000",
          "2025-02-15T00:00:00.000000000",
          "2025-02-16T00:00:00.000000000",
          "2025-02-17T00:00:00.000000000",
          "2025-02-18T00:00:00.000000000",
          "2025-02-19T00:00:00.000000000",
          "2025-02-20T00:00:00.000000000",
          "2025-02-21T00:00:00.000000000",
          "2025-02-22T00:00:00.000000000",
          "2025-02-23T00:00:00.000000000",
          "2025-02-24T00:00:00.000000000",
          "2025-02-25T00:00:00.000000000",
          "2025-02-26T00:00:00.000000000",
          "2025-02-27T00:00:00.000000000",
          "2025-02-28T00:00:00.000000000",
          "2025-03-01T00:00:00.000000000",
          "2025-03-02T00:00:00.000000000",
          "2025-03-03T00:00:00.000000000",
          "2025-03-04T00:00:00.000000000",
          "2025-03-05T00:00:00.000000000",
          "2025-03-06T00:00:00.000000000",
          "2025-03-07T00:00:00.000000000",
          "2025-03-08T00:00:00.000000000",
          "2025-03-09T00:00:00.000000000",
          "2025-03-10T00:00:00.000000000",
          "2025-03-11T00:00:00.000000000",
          "2025-03-12T00:00:00.000000000",
          "2025-03-13T00:00:00.000000000",
          "2025-03-14T00:00:00.000000000",
          "2025-03-15T00:00:00.000000000",
          "2025-03-16T00:00:00.000000000",
          "2025-03-17T00:00:00.000000000",
          "2025-03-18T00:00:00.000000000",
          "2025-03-19T00:00:00.000000000",
          "2025-03-20T00:00:00.000000000",
          "2025-03-21T00:00:00.000000000",
          "2025-03-22T00:00:00.000000000",
          "2025-03-23T00:00:00.000000000",
          "2025-03-24T00:00:00.000000000",
          "2025-03-25T00:00:00.000000000",
          "2025-03-26T00:00:00.000000000",
          "2025-03-27T00:00:00.000000000",
          "2025-03-28T00:00:00.000000000",
          "2025-03-29T00:00:00.000000000",
          "2025-03-30T00:00:00.000000000",
          "2025-03-31T00:00:00.000000000",
          "2025-04-01T00:00:00.000000000",
          "2025-04-02T00:00:00.000000000",
          "2025-04-03T00:00:00.000000000",
          "2025-04-04T00:00:00.000000000",
          "2025-04-05T00:00:00.000000000",
          "2025-04-06T00:00:00.000000000",
          "2025-04-07T00:00:00.000000000",
          "2025-04-08T00:00:00.000000000",
          "2025-04-09T00:00:00.000000000",
          "2025-04-10T00:00:00.000000000",
          "2025-04-11T00:00:00.000000000",
          "2025-04-12T00:00:00.000000000",
          "2025-04-13T00:00:00.000000000",
          "2025-04-14T00:00:00.000000000",
          "2025-04-15T00:00:00.000000000",
          "2025-04-16T00:00:00.000000000",
          "2025-04-17T00:00:00.000000000",
          "2025-04-18T00:00:00.000000000",
          "2025-04-19T00:00:00.000000000",
          "2025-04-20T00:00:00.000000000",
          "2025-04-21T00:00:00.000000000",
          "2025-04-22T00:00:00.000000000",
          "2025-04-23T00:00:00.000000000",
          "2025-04-24T00:00:00.000000000",
          "2025-04-25T00:00:00.000000000",
          "2025-04-26T00:00:00.000000000",
          "2025-04-27T00:00:00.000000000",
          "2025-04-28T00:00:00.000000000",
          "2025-04-29T00:00:00.000000000",
          "2025-04-30T00:00:00.000000000",
          "2025-05-01T00:00:00.000000000",
          "2025-05-02T00:00:00.000000000",
          "2025-05-03T00:00:00.000000000",
          "2025-05-04T00:00:00.000000000",
          "2025-05-05T00:00:00.000000000",
          "2025-05-06T00:00:00.000000000",
          "2025-05-07T00:00:00.000000000",
          "2025-05-08T00:00:00.000000000",
          "2025-05-09T00:00:00.000000000",
          "2025-05-10T00:00:00.000000000",
          "2025-05-11T00:00:00.000000000",
          "2025-05-12T00:00:00.000000000",
          "2025-05-13T00:00:00.000000000",
          "2025-05-14T00:00:00.000000000",
          "2025-05-15T00:00:00.000000000",
          "2025-05-16T00:00:00.000000000",
          "2025-05-17T00:00:00.000000000",
          "2025-05-18T00:00:00.000000000",
          "2025-05-19T00:00:00.000000000",
          "2025-05-20T00:00:00.000000000",
          "2025-05-21T00:00:00.000000000",
          "2025-05-22T00:00:00.000000000",
          "2025-05-23T00:00:00.000000000",
          "2025-05-24T00:00:00.000000000",
          "2025-05-25T00:00:00.000000000",
          "2025-05-26T00:00:00.000000000",
          "2025-05-27T00:00:00.000000000",
          "2025-05-28T00:00:00.000000000",
          "2025-05-29T00:00:00.000000000",
          "2025-05-30T00:00:00.000000000",
          "2025-05-31T00:00:00.000000000",
          "2025-06-01T00:00:00.000000000",
          "2025-06-02T00:00:00.000000000",
          "2025-06-03T00:00:00.000000000",
          "2025-06-04T00:00:00.000000000",
          "2025-06-05T00:00:00.000000000",
          "2025-06-06T00:00:00.000000000",
          "2025-06-07T00:00:00.000000000",
          "2025-06-08T00:00:00.000000000",
          "2025-06-09T00:00:00.000000000",
          "2025-06-10T00:00:00.000000000",
          "2025-06-11T00:00:00.000000000",
          "2025-06-12T00:00:00.000000000",
          "2025-06-13T00:00:00.000000000",
          "2025-06-14T00:00:00.000000000",
          "2025-06-15T00:00:00.000000000",
          "2025-06-16T00:00:00.000000000",
          "2025-06-17T00:00:00.000000000",
          "2025-06-18T00:00:00.000000000",
          "2025-06-19T00:00:00.000000000",
          "2025-06-20T00:00:00.000000000",
          "2025-06-21T00:00:00.000000000",
          "2025-06-22T00:00:00.000000000",
          "2025-06-23T00:00:00.000000000",
          "2025-06-24T00:00:00.000000000",
          "2025-06-25T00:00:00.000000000",
          "2025-06-26T00:00:00.000000000",
          "2025-06-27T00:00:00.000000000",
          "2025-06-28T00:00:00.000000000",
          "2025-06-29T00:00:00.000000000",
          "2025-06-30T00:00:00.000000000",
          "2025-07-01T00:00:00.000000000",
          "2025-07-02T00:00:00.000000000",
          "2025-07-03T00:00:00.000000000",
          "2025-07-04T00:00:00.000000000",
          "2025-07-05T00:00:00.000000000",
          "2025-07-06T00:00:00.000000000",
          "2025-07-07T00:00:00.000000000",
          "2025-07-08T00:00:00.000000000",
          "2025-07-09T00:00:00.000000000",
          "2025-07-10T00:00:00.000000000",
          "2025-07-11T00:00:00.000000000",
          "2025-07-12T00:00:00.000000000",
          "2025-07-13T00:00:00.000000000",
          "2025-07-14T00:00:00.000000000",
          "2025-07-15T00:00:00.000000000",
          "2025-07-16T00:00:00.000000000",
          "2025-07-17T00:00:00.000000000",
          "2025-07-18T00:00:00.000000000",
          "2025-07-19T00:00:00.000000000",
          "2025-07-20T00:00:00.000000000",
          "2025-07-21T00:00:00.000000000",
          "2025-07-22T00:00:00.000000000",
          "2025-07-23T00:00:00.000000000",
          "2025-07-24T00:00:00.000000000",
          "2025-07-25T00:00:00.000000000",
          "2025-07-26T00:00:00.000000000",
          "2025-07-27T00:00:00.000000000",
          "2025-07-28T00:00:00.000000000",
          "2025-07-29T00:00:00.000000000",
          "2025-07-30T00:00:00.000000000",
          "2025-07-31T00:00:00.000000000",
          "2025-08-01T00:00:00.000000000",
          "2025-08-02T00:00:00.000000000",
          "2025-08-03T00:00:00.000000000",
          "2025-08-04T00:00:00.000000000",
          "2025-08-05T00:00:00.000000000",
          "2025-08-06T00:00:00.000000000",
          "2025-08-07T00:00:00.000000000",
          "2025-08-08T00:00:00.000000000",
          "2025-08-09T00:00:00.000000000",
          "2025-08-10T00:00:00.000000000",
          "2025-08-11T00:00:00.000000000",
          "2025-08-12T00:00:00.000000000",
          "2025-08-13T00:00:00.000000000",
          "2025-08-14T00:00:00.000000000",
          "2025-08-15T00:00:00.000000000",
          "2025-08-16T00:00:00.000000000",
          "2025-08-17T00:00:00.000000000",
          "2025-08-18T00:00:00.000000000",
          "2025-08-19T00:00:00.000000000",
          "2025-08-20T00:00:00.000000000",
          "2025-08-21T00:00:00.000000000",
          "2025-08-22T00:00:00.000000000",
          "2025-08-23T00:00:00.000000000",
          "2025-08-24T00:00:00.000000000",
          "2025-08-25T00:00:00.000000000",
          "2025-08-26T00:00:00.000000000"
         ],
         "xaxis": "x",
         "y": {
          "bdata": "awAPAFYAVABhABYARwByAJwAOQEvAHYAVQAiANsALAAZAFsAegANAbkAMwGdAV8AJgD6A2cC6wQIAcoBdgACAW4AUQAUAI0BPQDpACoA5AB5AYUA1gApAYoAIwGEAAAAZQCpACcBngBdACkABQGsAPkAOgExAQsABgAAAFwAbgBxAE8BpQDiAPIA/wBNAKIAnwAcAYoAtgCIAF4AzwEmAl4AXQGfAQ4C1AD+AC8BXgHVADICcwAOAYsA0gA2AV8BSAD7ARkBWwGvAM0BSgHbABUBaQKvAMoAfgGNAXoBHgIfAr4BpQA/AawBgwDBAAcCAgHOAcwA3gByAT8BuwC3AKwA4gHbAJgA3wAqAoAAfgDzAUQBhwAmAI8AuABuAOECmgCOABgBRAD+AO0A9AAIAWwASACSAIoAPQD4AYwBjgFqAFcAowB/AOkABAI2ABUARwHWAPIBSwDQABcCHgB3AOwBTgA7AA0DYAGEAb4B1QDuAHsAagC8AEYB8QBLAeUA+gALAfIASgHvAFQAcgFhALYAAwGPAMsA2QBIAP4A1QB0AEMBIAEvAPUAUQA0AC0AOwCbAGYAVwGyAHMAFAAAABcAAAAFAAIAwQB7AMcAcgDJAFkAugABAR4A",
          "dtype": "i2"
         },
         "yaxis": "y"
        },
        {
         "marker": {
          "color": "red",
          "size": 14,
          "symbol": "x"
         },
         "mode": "markers+text",
         "name": "Tertinggi",
         "text": [
          "Max: 1259"
         ],
         "textposition": "top center",
         "type": "scatter",
         "x": [
          "2025-01-29T00:00:00"
         ],
         "y": [
          1259
         ]
        },
        {
         "marker": {
          "color": "orange",
          "size": 10,
          "symbol": "x"
         },
         "mode": "markers+text",
         "name": "Kurang dari 10",
         "text": [
          "xmin",
          "xmin",
          "xmin",
          "xmin",
          "xmin",
          "xmin",
          "xmin"
         ],
         "textposition": "bottom center",
         "type": "scatter",
         "x": [
          "2025-02-18T00:00:00.000000000",
          "2025-03-03T00:00:00.000000000",
          "2025-03-04T00:00:00.000000000",
          "2025-08-13T00:00:00.000000000",
          "2025-08-15T00:00:00.000000000",
          "2025-08-16T00:00:00.000000000",
          "2025-08-17T00:00:00.000000000"
         ],
         "y": {
          "bdata": "AAYAAAAFAg==",
          "dtype": "i1"
         }
        }
       ],
       "layout": {
        "legend": {
         "tracegroupgap": 0
        },
        "template": {
         "data": {
          "bar": [
           {
            "error_x": {
             "color": "#2a3f5f"
            },
            "error_y": {
             "color": "#2a3f5f"
            },
            "marker": {
             "line": {
              "color": "#E5ECF6",
              "width": 0.5
             },
             "pattern": {
              "fillmode": "overlay",
              "size": 10,
              "solidity": 0.2
             }
            },
            "type": "bar"
           }
          ],
          "barpolar": [
           {
            "marker": {
             "line": {
              "color": "#E5ECF6",
              "width": 0.5
             },
             "pattern": {
              "fillmode": "overlay",
              "size": 10,
              "solidity": 0.2
             }
            },
            "type": "barpolar"
           }
          ],
          "carpet": [
           {
            "aaxis": {
             "endlinecolor": "#2a3f5f",
             "gridcolor": "white",
             "linecolor": "white",
             "minorgridcolor": "white",
             "startlinecolor": "#2a3f5f"
            },
            "baxis": {
             "endlinecolor": "#2a3f5f",
             "gridcolor": "white",
             "linecolor": "white",
             "minorgridcolor": "white",
             "startlinecolor": "#2a3f5f"
            },
            "type": "carpet"
           }
          ],
          "choropleth": [
           {
            "colorbar": {
             "outlinewidth": 0,
             "ticks": ""
            },
            "type": "choropleth"
           }
          ],
          "contour": [
           {
            "colorbar": {
             "outlinewidth": 0,
             "ticks": ""
            },
            "colorscale": [
             [
              0,
              "#0d0887"
             ],
             [
              0.1111111111111111,
              "#46039f"
             ],
             [
              0.2222222222222222,
              "#7201a8"
             ],
             [
              0.3333333333333333,
              "#9c179e"
             ],
             [
              0.4444444444444444,
              "#bd3786"
             ],
             [
              0.5555555555555556,
              "#d8576b"
             ],
             [
              0.6666666666666666,
              "#ed7953"
             ],
             [
              0.7777777777777778,
              "#fb9f3a"
             ],
             [
              0.8888888888888888,
              "#fdca26"
             ],
             [
              1,
              "#f0f921"
             ]
            ],
            "type": "contour"
           }
          ],
          "contourcarpet": [
           {
            "colorbar": {
             "outlinewidth": 0,
             "ticks": ""
            },
            "type": "contourcarpet"
           }
          ],
          "heatmap": [
           {
            "colorbar": {
             "outlinewidth": 0,
             "ticks": ""
            },
            "colorscale": [
             [
              0,
              "#0d0887"
             ],
             [
              0.1111111111111111,
              "#46039f"
             ],
             [
              0.2222222222222222,
              "#7201a8"
             ],
             [
              0.3333333333333333,
              "#9c179e"
             ],
             [
              0.4444444444444444,
              "#bd3786"
             ],
             [
              0.5555555555555556,
              "#d8576b"
             ],
             [
              0.6666666666666666,
              "#ed7953"
             ],
             [
              0.7777777777777778,
              "#fb9f3a"
             ],
             [
              0.8888888888888888,
              "#fdca26"
             ],
             [
              1,
              "#f0f921"
             ]
            ],
            "type": "heatmap"
           }
          ],
          "histogram": [
           {
            "marker": {
             "pattern": {
              "fillmode": "overlay",
              "size": 10,
              "solidity": 0.2
             }
            },
            "type": "histogram"
           }
          ],
          "histogram2d": [
           {
            "colorbar": {
             "outlinewidth": 0,
             "ticks": ""
            },
            "colorscale": [
             [
              0,
              "#0d0887"
             ],
             [
              0.1111111111111111,
              "#46039f"
             ],
             [
              0.2222222222222222,
              "#7201a8"
             ],
             [
              0.3333333333333333,
              "#9c179e"
             ],
             [
              0.4444444444444444,
              "#bd3786"
             ],
             [
              0.5555555555555556,
              "#d8576b"
             ],
             [
              0.6666666666666666,
              "#ed7953"
             ],
             [
              0.7777777777777778,
              "#fb9f3a"
             ],
             [
              0.8888888888888888,
              "#fdca26"
             ],
             [
              1,
              "#f0f921"
             ]
            ],
            "type": "histogram2d"
           }
          ],
          "histogram2dcontour": [
           {
            "colorbar": {
             "outlinewidth": 0,
             "ticks": ""
            },
            "colorscale": [
             [
              0,
              "#0d0887"
             ],
             [
              0.1111111111111111,
              "#46039f"
             ],
             [
              0.2222222222222222,
              "#7201a8"
             ],
             [
              0.3333333333333333,
              "#9c179e"
             ],
             [
              0.4444444444444444,
              "#bd3786"
             ],
             [
              0.5555555555555556,
              "#d8576b"
             ],
             [
              0.6666666666666666,
              "#ed7953"
             ],
             [
              0.7777777777777778,
              "#fb9f3a"
             ],
             [
              0.8888888888888888,
              "#fdca26"
             ],
             [
              1,
              "#f0f921"
             ]
            ],
            "type": "histogram2dcontour"
           }
          ],
          "mesh3d": [
           {
            "colorbar": {
             "outlinewidth": 0,
             "ticks": ""
            },
            "type": "mesh3d"
           }
          ],
          "parcoords": [
           {
            "line": {
             "colorbar": {
              "outlinewidth": 0,
              "ticks": ""
             }
            },
            "type": "parcoords"
           }
          ],
          "pie": [
           {
            "automargin": true,
            "type": "pie"
           }
          ],
          "scatter": [
           {
            "fillpattern": {
             "fillmode": "overlay",
             "size": 10,
             "solidity": 0.2
            },
            "type": "scatter"
           }
          ],
          "scatter3d": [
           {
            "line": {
             "colorbar": {
              "outlinewidth": 0,
              "ticks": ""
             }
            },
            "marker": {
             "colorbar": {
              "outlinewidth": 0,
              "ticks": ""
             }
            },
            "type": "scatter3d"
           }
          ],
          "scattercarpet": [
           {
            "marker": {
             "colorbar": {
              "outlinewidth": 0,
              "ticks": ""
             }
            },
            "type": "scattercarpet"
           }
          ],
          "scattergeo": [
           {
            "marker": {
             "colorbar": {
              "outlinewidth": 0,
              "ticks": ""
             }
            },
            "type": "scattergeo"
           }
          ],
          "scattergl": [
           {
            "marker": {
             "colorbar": {
              "outlinewidth": 0,
              "ticks": ""
             }
            },
            "type": "scattergl"
           }
          ],
          "scattermap": [
           {
            "marker": {
             "colorbar": {
              "outlinewidth": 0,
              "ticks": ""
             }
            },
            "type": "scattermap"
           }
          ],
          "scattermapbox": [
           {
            "marker": {
             "colorbar": {
              "outlinewidth": 0,
              "ticks": ""
             }
            },
            "type": "scattermapbox"
           }
          ],
          "scatterpolar": [
           {
            "marker": {
             "colorbar": {
              "outlinewidth": 0,
              "ticks": ""
             }
            },
            "type": "scatterpolar"
           }
          ],
          "scatterpolargl": [
           {
            "marker": {
             "colorbar": {
              "outlinewidth": 0,
              "ticks": ""
             }
            },
            "type": "scatterpolargl"
           }
          ],
          "scatterternary": [
           {
            "marker": {
             "colorbar": {
              "outlinewidth": 0,
              "ticks": ""
             }
            },
            "type": "scatterternary"
           }
          ],
          "surface": [
           {
            "colorbar": {
             "outlinewidth": 0,
             "ticks": ""
            },
            "colorscale": [
             [
              0,
              "#0d0887"
             ],
             [
              0.1111111111111111,
              "#46039f"
             ],
             [
              0.2222222222222222,
              "#7201a8"
             ],
             [
              0.3333333333333333,
              "#9c179e"
             ],
             [
              0.4444444444444444,
              "#bd3786"
             ],
             [
              0.5555555555555556,
              "#d8576b"
             ],
             [
              0.6666666666666666,
              "#ed7953"
             ],
             [
              0.7777777777777778,
              "#fb9f3a"
             ],
             [
              0.8888888888888888,
              "#fdca26"
             ],
             [
              1,
              "#f0f921"
             ]
            ],
            "type": "surface"
           }
          ],
          "table": [
           {
            "cells": {
             "fill": {
              "color": "#EBF0F8"
             },
             "line": {
              "color": "white"
             }
            },
            "header": {
             "fill": {
              "color": "#C8D4E3"
             },
             "line": {
              "color": "white"
             }
            },
            "type": "table"
           }
          ]
         },
         "layout": {
          "annotationdefaults": {
           "arrowcolor": "#2a3f5f",
           "arrowhead": 0,
           "arrowwidth": 1
          },
          "autotypenumbers": "strict",
          "coloraxis": {
           "colorbar": {
            "outlinewidth": 0,
            "ticks": ""
           }
          },
          "colorscale": {
           "diverging": [
            [
             0,
             "#8e0152"
            ],
            [
             0.1,
             "#c51b7d"
            ],
            [
             0.2,
             "#de77ae"
            ],
            [
             0.3,
             "#f1b6da"
            ],
            [
             0.4,
             "#fde0ef"
            ],
            [
             0.5,
             "#f7f7f7"
            ],
            [
             0.6,
             "#e6f5d0"
            ],
            [
             0.7,
             "#b8e186"
            ],
            [
             0.8,
             "#7fbc41"
            ],
            [
             0.9,
             "#4d9221"
            ],
            [
             1,
             "#276419"
            ]
           ],
           "sequential": [
            [
             0,
             "#0d0887"
            ],
            [
             0.1111111111111111,
             "#46039f"
            ],
            [
             0.2222222222222222,
             "#7201a8"
            ],
            [
             0.3333333333333333,
             "#9c179e"
            ],
            [
             0.4444444444444444,
             "#bd3786"
            ],
            [
             0.5555555555555556,
             "#d8576b"
            ],
            [
             0.6666666666666666,
             "#ed7953"
            ],
            [
             0.7777777777777778,
             "#fb9f3a"
            ],
            [
             0.8888888888888888,
             "#fdca26"
            ],
            [
             1,
             "#f0f921"
            ]
           ],
           "sequentialminus": [
            [
             0,
             "#0d0887"
            ],
            [
             0.1111111111111111,
             "#46039f"
            ],
            [
             0.2222222222222222,
             "#7201a8"
            ],
            [
             0.3333333333333333,
             "#9c179e"
            ],
            [
             0.4444444444444444,
             "#bd3786"
            ],
            [
             0.5555555555555556,
             "#d8576b"
            ],
            [
             0.6666666666666666,
             "#ed7953"
            ],
            [
             0.7777777777777778,
             "#fb9f3a"
            ],
            [
             0.8888888888888888,
             "#fdca26"
            ],
            [
             1,
             "#f0f921"
            ]
           ]
          },
          "colorway": [
           "#636efa",
           "#EF553B",
           "#00cc96",
           "#ab63fa",
           "#FFA15A",
           "#19d3f3",
           "#FF6692",
           "#B6E880",
           "#FF97FF",
           "#FECB52"
          ],
          "font": {
           "color": "#2a3f5f"
          },
          "geo": {
           "bgcolor": "white",
           "lakecolor": "white",
           "landcolor": "#E5ECF6",
           "showlakes": true,
           "showland": true,
           "subunitcolor": "white"
          },
          "hoverlabel": {
           "align": "left"
          },
          "hovermode": "closest",
          "mapbox": {
           "style": "light"
          },
          "paper_bgcolor": "white",
          "plot_bgcolor": "#E5ECF6",
          "polar": {
           "angularaxis": {
            "gridcolor": "white",
            "linecolor": "white",
            "ticks": ""
           },
           "bgcolor": "#E5ECF6",
           "radialaxis": {
            "gridcolor": "white",
            "linecolor": "white",
            "ticks": ""
           }
          },
          "scene": {
           "xaxis": {
            "backgroundcolor": "#E5ECF6",
            "gridcolor": "white",
            "gridwidth": 2,
            "linecolor": "white",
            "showbackground": true,
            "ticks": "",
            "zerolinecolor": "white"
           },
           "yaxis": {
            "backgroundcolor": "#E5ECF6",
            "gridcolor": "white",
            "gridwidth": 2,
            "linecolor": "white",
            "showbackground": true,
            "ticks": "",
            "zerolinecolor": "white"
           },
           "zaxis": {
            "backgroundcolor": "#E5ECF6",
            "gridcolor": "white",
            "gridwidth": 2,
            "linecolor": "white",
            "showbackground": true,
            "ticks": "",
            "zerolinecolor": "white"
           }
          },
          "shapedefaults": {
           "line": {
            "color": "#2a3f5f"
           }
          },
          "ternary": {
           "aaxis": {
            "gridcolor": "white",
            "linecolor": "white",
            "ticks": ""
           },
           "baxis": {
            "gridcolor": "white",
            "linecolor": "white",
            "ticks": ""
           },
           "bgcolor": "#E5ECF6",
           "caxis": {
            "gridcolor": "white",
            "linecolor": "white",
            "ticks": ""
           }
          },
          "title": {
           "x": 0.05
          },
          "xaxis": {
           "automargin": true,
           "gridcolor": "white",
           "linecolor": "white",
           "ticks": "",
           "title": {
            "standoff": 15
           },
           "zerolinecolor": "white",
           "zerolinewidth": 2
          },
          "yaxis": {
           "automargin": true,
           "gridcolor": "white",
           "linecolor": "white",
           "ticks": "",
           "title": {
            "standoff": 15
           },
           "zerolinecolor": "white",
           "zerolinewidth": 2
          }
         }
        },
        "title": {
         "text": "📊 Jumlah Chat per Hari (Interaktif)"
        },
        "xaxis": {
         "anchor": "y",
         "domain": [
          0,
          1
         ],
         "title": {
          "text": "Tanggal"
         }
        },
        "yaxis": {
         "anchor": "x",
         "domain": [
          0,
          1
         ],
         "title": {
          "text": "Jumlah Pesan"
         }
        }
       }
      }
     },
     "metadata": {},
     "output_type": "display_data"
    }
   ],
   "source": [
    "import plotly.express as px\n",
    "import plotly.graph_objects as go\n",
    "\n",
    "# jumlah chat per hari\n",
    "daily_counts = df.resample(\"D\").size().reset_index()\n",
    "daily_counts.columns = [\"Tanggal\", \"Jumlah Pesan\"]\n",
    "\n",
    "# cari max & min\n",
    "max_row = daily_counts.loc[daily_counts[\"Jumlah Pesan\"].idxmax()]\n",
    "min_row = daily_counts.loc[daily_counts[\"Jumlah Pesan\"].idxmin()]\n",
    "\n",
    "# grafik dasar\n",
    "fig = px.line(\n",
    "    daily_counts,\n",
    "    x=\"Tanggal\",\n",
    "    y=\"Jumlah Pesan\",\n",
    "    title=\"📊 Jumlah Chat per Hari (Interaktif)\",\n",
    "    markers=True\n",
    ")\n",
    "\n",
    "# titik max (❌ merah)\n",
    "fig.add_trace(\n",
    "    go.Scatter(\n",
    "        x=[max_row[\"Tanggal\"]],\n",
    "        y=[max_row[\"Jumlah Pesan\"]],\n",
    "        mode=\"markers+text\",\n",
    "        marker=dict(symbol=\"x\", size=14, color=\"red\"),\n",
    "        text=[f\"Max: {max_row['Jumlah Pesan']}\"],\n",
    "        textposition=\"top center\",\n",
    "        name=\"Tertinggi\"\n",
    "    )\n",
    ")\n",
    "\n",
    "# titik min (❌ biru) — hanya kalau min >= 10 biar tidak bentrok dengan xmin\n",
    "if min_row[\"Jumlah Pesan\"] >= 10:\n",
    "    fig.add_trace(\n",
    "        go.Scatter(\n",
    "            x=[min_row[\"Tanggal\"]],\n",
    "            y=[min_row[\"Jumlah Pesan\"]],\n",
    "            mode=\"markers+text\",\n",
    "            marker=dict(symbol=\"x\", size=14, color=\"blue\"),\n",
    "            text=[f\"Min: {min_row['Jumlah Pesan']}\"],\n",
    "            textposition=\"bottom center\",\n",
    "            name=\"Terendah\"\n",
    "        )\n",
    "    )\n",
    "\n",
    "# titik dengan chat < 10 (❌ orange)\n",
    "low_rows = daily_counts[daily_counts[\"Jumlah Pesan\"] < 10]\n",
    "if not low_rows.empty:\n",
    "    fig.add_trace(\n",
    "        go.Scatter(\n",
    "            x=low_rows[\"Tanggal\"],\n",
    "            y=low_rows[\"Jumlah Pesan\"],\n",
    "            mode=\"markers+text\",\n",
    "            marker=dict(symbol=\"x\", size=10, color=\"orange\"),\n",
    "            text=[\"xmin\"]*len(low_rows),\n",
    "            textposition=\"bottom center\",\n",
    "            name=\"Kurang dari 10\"\n",
    "        )\n",
    "    )\n",
    "\n",
    "fig.show()\n"
   ]
  },
  {
   "cell_type": "code",
   "execution_count": 33,
   "id": "0ccb5900",
   "metadata": {},
   "outputs": [
    {
     "data": {
      "image/png": "[encoded data removed]",
      "text/plain": [
       "<Figure size 1000x500 with 1 Axes>"
      ]
     },
     "metadata": {},
     "output_type": "display_data"
    }
   ],
   "source": [
    "daily_counts = df.resample(\"D\").size().reset_index()\n",
    "daily_counts.columns = [\"Tanggal\", \"Jumlah Pesan\"]\n",
    "\n",
    "# ambil 5 tanggal dengan chat terbanyak\n",
    "top5_max = daily_counts.nlargest(5, \"Jumlah Pesan\").sort_values(\"Jumlah Pesan\", ascending=True)\n",
    "\n",
    "# plot bar horizontal\n",
    "plt.figure(figsize=(10,5))\n",
    "plt.barh(top5_max[\"Tanggal\"].astype(str), top5_max[\"Jumlah Pesan\"], color=\"skyblue\")\n",
    "plt.title(\"Top 5 Hari dengan Jumlah Chat Terbanyak\")\n",
    "plt.xlabel(\"Jumlah Pesan\")\n",
    "plt.ylabel(\"Tanggal\")\n",
    "\n",
    "# tampilkan nilai di ujung batang\n",
    "for i, (val, tanggal) in enumerate(zip(top5_max[\"Jumlah Pesan\"], top5_max[\"Tanggal\"].astype(str))):\n",
    "    plt.text(val+5, i, str(val), va=\"center\")\n",
    "\n",
    "plt.tight_layout()\n",
    "plt.show()"
   ]
  },
  {
   "cell_type": "markdown",
   "id": "154780b0",
   "metadata": {},
   "source": [
    "# 📊 Insight Analisis Jumlah Chat per Hari\n",
    "\n",
    "## 🔥 Temuan Utama\n",
    "- Hari dengan **chat terbanyak**: **Akhir Januari 2025** →  **1.259 pesan**\n",
    "- Hari dengan **chat sangat rendah (<10 pesan)**: tersebar di **akhir Februari, pertengahan Maret, hingga Agustus 2025**\n",
    "- Sebagian besar hari berada di kisaran **100 – 500 chat**\n",
    "\n",
    "---\n",
    "\n",
    "## ⏰ Pola Aktivitas\n",
    "- Aktivitas chat bersifat **fluktuatif** → ada lonjakan tinggi lalu penurunan drastis\n",
    "- **Rentang normal**: 100–500 chat/hari\n",
    "- **Beberapa hari sunyi** dengan chat <10 → menandakan jeda komunikasi (liburan, sibuk, atau jarang buka WA)\n",
    "\n",
    "---\n",
    "## Top Chat Tertinggi \n",
    "- 01/29 --> 1259 chat\n",
    "- 01/27 --> 1018 chat\n",
    "- 06/30 --> 781 chat\n",
    "- 05/25 --> 737 chat\n",
    "- 04/17 --> 617 chat\n",
    "\n",
    "---\n",
    "\n",
    "## 📅 Interpretasi\n",
    "- Puncak chat di awal Februari kemungkinan karena **momen khusus**  \n",
    "- Hari-hari dengan chat <10 menunjukkan **minim interaksi**  \n",
    "- Secara keseluruhan pola chat menunjukkan hubungan yang **stabil**,  \n",
    "  dengan periode **sangat aktif** dan periode **hening**\n",
    "\n",
    "---\n",
    "\n",
    "## 📝 Kesimpulan\n",
    "Interaksi chat berlangsung **konsisten** dengan intensitas normal harian cukup tinggi.  \n",
    "Namun, ada momen-momen spesifik yang memunculkan **ledakan komunikasi**  \n",
    "dan juga hari-hari tertentu yang hampir **tanpa percakapan**. \n",
    "\n",
    "## Kira-kira percakapan menarik apa yang sudah dibahas?\n"
   ]
  },
  {
   "cell_type": "code",
   "execution_count": 29,
   "id": "f0d2e5c6",
   "metadata": {},
   "outputs": [
    {
     "name": "stdout",
     "output_type": "stream",
     "text": [
      "📌 Hari dengan chat terbanyak:\n",
      "Tanggal: 2025-01-29 00:00:00 | Jumlah Pesan: 1259\n",
      "\n",
      "📌 Hari dengan chat paling sedikit:\n",
      "Tanggal: 2025-02-18 00:00:00 | Jumlah Pesan: 0\n"
     ]
    }
   ],
   "source": [
    "# cari baris dengan jumlah pesan terbanyak\n",
    "max_row = daily_counts.loc[daily_counts[\"Jumlah Pesan\"].idxmax()]\n",
    "\n",
    "# cari baris dengan jumlah pesan paling sedikit\n",
    "min_row = daily_counts.loc[daily_counts[\"Jumlah Pesan\"].idxmin()]\n",
    "\n",
    "print(\"📌 Hari dengan chat terbanyak:\")\n",
    "print(\"Tanggal:\", max_row[\"Tanggal\"], \"| Jumlah Pesan:\", max_row[\"Jumlah Pesan\"])\n",
    "\n",
    "print(\"\\n📌 Hari dengan chat paling sedikit:\")\n",
    "print(\"Tanggal:\", min_row[\"Tanggal\"], \"| Jumlah Pesan:\", min_row[\"Jumlah Pesan\"])\n"
   ]
  },
  {
   "cell_type": "code",
   "execution_count": 24,
   "id": "b9d4f561",
   "metadata": {},
   "outputs": [
    {
     "name": "stdout",
     "output_type": "stream",
     "text": [
      "Chat dimulai : 2025-01-02 20:27:00\n",
      "Chat terakhir: 2025-08-26 10:15:00\n",
      "Rentang waktu: 235 days 13:48:00\n",
      "Dalam hari  : 235 hari\n",
      "Dalam bulan ~: 7.8 bulan\n"
     ]
    }
   ],
   "source": [
    "# tanggal awal dan akhir\n",
    "start_date = df.index.min()\n",
    "end_date   = df.index.max()\n",
    "\n",
    "# selisih\n",
    "duration = end_date - start_date\n",
    "\n",
    "print(\"Chat dimulai :\", start_date)\n",
    "print(\"Chat terakhir:\", end_date)\n",
    "print(\"Rentang waktu:\", duration)\n",
    "print(\"Dalam hari  :\", duration.days, \"hari\")\n",
    "print(\"Dalam bulan ~:\", round(duration.days/30, 1), \"bulan\")\n"
   ]
  },
  {
   "cell_type": "code",
   "execution_count": 19,
   "id": "b29d0dd1",
   "metadata": {},
   "outputs": [
    {
     "data": {
      "image/png": "[encoded data removed]",
      "text/plain": [
       "<Figure size 1400x500 with 2 Axes>"
      ]
     },
     "metadata": {},
     "output_type": "display_data"
    },
    {
     "name": "stdout",
     "output_type": "stream",
     "text": [
      "Jam tersibuk : 21 dengan 4391 pesan\n",
      "Hari tersibuk: Senin dengan 8773 pesan\n"
     ]
    }
   ],
   "source": [
    "import matplotlib.pyplot as plt\n",
    "\n",
    "# === Distribusi per jam ===\n",
    "per_hour = df.groupby(df.index.hour).size()\n",
    "\n",
    "# === Distribusi per hari ===\n",
    "per_dayofweek = df.groupby(df.index.dayofweek).size()\n",
    "day_map = {0:\"Senin\", 1:\"Selasa\", 2:\"Rabu\", 3:\"Kamis\", 4:\"Jumat\", 5:\"Sabtu\", 6:\"Minggu\"}\n",
    "per_dayofweek.index = per_dayofweek.index.map(day_map)\n",
    "\n",
    "# === Plot berdampingan ===\n",
    "fig, axes = plt.subplots(1, 2, figsize=(14,5))\n",
    "\n",
    "# kiri: distribusi jam (bar + label)\n",
    "bars1 = axes[0].bar(per_hour.index, per_hour.values, color=\"skyblue\")\n",
    "axes[0].set_title(\"Distribusi Chat per Jam (0–23)\")\n",
    "axes[0].set_xlabel(\"Jam\")\n",
    "axes[0].set_ylabel(\"Jumlah Pesan\")\n",
    "axes[0].grid(True)\n",
    "\n",
    "# tambahkan label di atas batang\n",
    "for bar in bars1:\n",
    "    height = bar.get_height()\n",
    "    axes[0].text(bar.get_x() + bar.get_width()/2, height, str(height),\n",
    "                 ha=\"center\", va=\"bottom\", fontsize=8)\n",
    "\n",
    "# kanan: distribusi hari (bar horizontal + label)\n",
    "bars2 = axes[1].barh(per_dayofweek.index[::-1], per_dayofweek.values[::-1], color=\"lightgreen\")\n",
    "axes[1].set_title(\"Distribusi Chat per Hari\")\n",
    "axes[1].set_xlabel(\"Jumlah Pesan\")\n",
    "axes[1].set_ylabel(\"Hari\")\n",
    "axes[1].grid(True)\n",
    "\n",
    "# tambahkan label di ujung batang\n",
    "for bar in bars2:\n",
    "    width = bar.get_width()\n",
    "    axes[1].text(width + 3, bar.get_y() + bar.get_height()/2, str(width),\n",
    "                 ha=\"left\", va=\"center\", fontsize=8)\n",
    "\n",
    "plt.tight_layout()\n",
    "plt.show()\n",
    "\n",
    "print(\"Jam tersibuk :\", per_hour.idxmax(), \"dengan\", per_hour.max(), \"pesan\")\n",
    "print(\"Hari tersibuk:\", per_dayofweek.idxmax(), \"dengan\", per_dayofweek.max(), \"pesan\")\n"
   ]
  },
  {
   "cell_type": "code",
   "execution_count": 27,
   "id": "a2ec5422",
   "metadata": {},
   "outputs": [
    {
     "data": {
      "application/vnd.plotly.v1+json": {
       "config": {
        "plotlyServerURL": "https://plot.ly"
       },
       "data": [
        {
         "colorscale": [
          [
           0,
           "rgb(255,255,217)"
          ],
          [
           0.125,
           "rgb(237,248,177)"
          ],
          [
           0.25,
           "rgb(199,233,180)"
          ],
          [
           0.375,
           "rgb(127,205,187)"
          ],
          [
           0.5,
           "rgb(65,182,196)"
          ],
          [
           0.625,
           "rgb(29,145,192)"
          ],
          [
           0.75,
           "rgb(34,94,168)"
          ],
          [
           0.875,
           "rgb(37,52,148)"
          ],
          [
           1,
           "rgb(8,29,88)"
          ]
         ],
         "reversescale": false,
         "showscale": true,
         "type": "heatmap",
         "x": [
          "0",
          "1",
          "2",
          "3",
          "4",
          "5",
          "6",
          "7",
          "8",
          "9",
          "10",
          "11",
          "12",
          "13",
          "14",
          "15",
          "16",
          "17",
          "18",
          "19",
          "20",
          "21",
          "22",
          "23"
         ],
         "y": [
          "Senin",
          "Selasa",
          "Rabu",
          "Kamis",
          "Jumat",
          "Sabtu",
          "Minggu"
         ],
         "z": {
          "bdata": "TwEXAAcADQCrAGcA9ADPANMBnwEGAjkCZQFuAQQB4AE9AUMBiQGGApgCTwJoArACyAESAAEAFABBAGsACgH8AIIBQwHGAHIBqQAUAZIB5gChAA8CJAJkAbYBBwLRAXMCJgEMAAIAQQB4AEkAbwDaAdoAiQCOADoBfQFoAcMBkAH5AMgA6gGpAYYChwLIAigCQgFyAA8AvAAkACgApwFqAcoA5wDbAFcB4gFGAUwB7gHEAG0BswLfAWMC/AHpAnsBzwB9AEoAJAAeAKUAiQACAbUA9wD8AB4BvwDHAfsADAEPAVUBSwFqAUoDfANdAioC+AGaAIYAcgCGAEIAsgAKAXMBDwEDAdwAEQG6AKIBUwH6AOQBFQLUAHMBHQK5ATkBPgAQABEAFgAyACoA5QCuAdUA7QBVAacBXAEtAd8B9ACaAVYBRAIuAu0BtQIBAuUB",
          "dtype": "i2",
          "shape": "7, 24"
         }
        }
       ],
       "layout": {
        "annotations": [
         {
          "font": {
           "color": "#000000"
          },
          "showarrow": false,
          "text": "335",
          "x": "0",
          "xref": "x",
          "y": "Senin",
          "yref": "y"
         },
         {
          "font": {
           "color": "#000000"
          },
          "showarrow": false,
          "text": "23",
          "x": "1",
          "xref": "x",
          "y": "Senin",
          "yref": "y"
         },
         {
          "font": {
           "color": "#000000"
          },
          "showarrow": false,
          "text": "7",
          "x": "2",
          "xref": "x",
          "y": "Senin",
          "yref": "y"
         },
         {
          "font": {
           "color": "#000000"
          },
          "showarrow": false,
          "text": "13",
          "x": "3",
          "xref": "x",
          "y": "Senin",
          "yref": "y"
         },
         {
          "font": {
           "color": "#000000"
          },
          "showarrow": false,
          "text": "171",
          "x": "4",
          "xref": "x",
          "y": "Senin",
          "yref": "y"
         },
         {
          "font": {
           "color": "#000000"
          },
          "showarrow": false,
          "text": "103",
          "x": "5",
          "xref": "x",
          "y": "Senin",
          "yref": "y"
         },
         {
          "font": {
           "color": "#000000"
          },
          "showarrow": false,
          "text": "244",
          "x": "6",
          "xref": "x",
          "y": "Senin",
          "yref": "y"
         },
         {
          "font": {
           "color": "#000000"
          },
          "showarrow": false,
          "text": "207",
          "x": "7",
          "xref": "x",
          "y": "Senin",
          "yref": "y"
         },
         {
          "font": {
           "color": "#FFFFFF"
          },
          "showarrow": false,
          "text": "467",
          "x": "8",
          "xref": "x",
          "y": "Senin",
          "yref": "y"
         },
         {
          "font": {
           "color": "#000000"
          },
          "showarrow": false,
          "text": "415",
          "x": "9",
          "xref": "x",
          "y": "Senin",
          "yref": "y"
         },
         {
          "font": {
           "color": "#FFFFFF"
          },
          "showarrow": false,
          "text": "518",
          "x": "10",
          "xref": "x",
          "y": "Senin",
          "yref": "y"
         },
         {
          "font": {
           "color": "#FFFFFF"
          },
          "showarrow": false,
          "text": "569",
          "x": "11",
          "xref": "x",
          "y": "Senin",
          "yref": "y"
         },
         {
          "font": {
           "color": "#000000"
          },
          "showarrow": false,
          "text": "357",
          "x": "12",
          "xref": "x",
          "y": "Senin",
          "yref": "y"
         },
         {
          "font": {
           "color": "#000000"
          },
          "showarrow": false,
          "text": "366",
          "x": "13",
          "xref": "x",
          "y": "Senin",
          "yref": "y"
         },
         {
          "font": {
           "color": "#000000"
          },
          "showarrow": false,
          "text": "260",
          "x": "14",
          "xref": "x",
          "y": "Senin",
          "yref": "y"
         },
         {
          "font": {
           "color": "#FFFFFF"
          },
          "showarrow": false,
          "text": "480",
          "x": "15",
          "xref": "x",
          "y": "Senin",
          "yref": "y"
         },
         {
          "font": {
           "color": "#000000"
          },
          "showarrow": false,
          "text": "317",
          "x": "16",
          "xref": "x",
          "y": "Senin",
          "yref": "y"
         },
         {
          "font": {
           "color": "#000000"
          },
          "showarrow": false,
          "text": "323",
          "x": "17",
          "xref": "x",
          "y": "Senin",
          "yref": "y"
         },
         {
          "font": {
           "color": "#000000"
          },
          "showarrow": false,
          "text": "393",
          "x": "18",
          "xref": "x",
          "y": "Senin",
          "yref": "y"
         },
         {
          "font": {
           "color": "#FFFFFF"
          },
          "showarrow": false,
          "text": "646",
          "x": "19",
          "xref": "x",
          "y": "Senin",
          "yref": "y"
         },
         {
          "font": {
           "color": "#FFFFFF"
          },
          "showarrow": false,
          "text": "664",
          "x": "20",
          "xref": "x",
          "y": "Senin",
          "yref": "y"
         },
         {
          "font": {
           "color": "#FFFFFF"
          },
          "showarrow": false,
          "text": "591",
          "x": "21",
          "xref": "x",
          "y": "Senin",
          "yref": "y"
         },
         {
          "font": {
           "color": "#FFFFFF"
          },
          "showarrow": false,
          "text": "616",
          "x": "22",
          "xref": "x",
          "y": "Senin",
          "yref": "y"
         },
         {
          "font": {
           "color": "#FFFFFF"
          },
          "showarrow": false,
          "text": "688",
          "x": "23",
          "xref": "x",
          "y": "Senin",
          "yref": "y"
         },
         {
          "font": {
           "color": "#FFFFFF"
          },
          "showarrow": false,
          "text": "456",
          "x": "0",
          "xref": "x",
          "y": "Selasa",
          "yref": "y"
         },
         {
          "font": {
           "color": "#000000"
          },
          "showarrow": false,
          "text": "18",
          "x": "1",
          "xref": "x",
          "y": "Selasa",
          "yref": "y"
         },
         {
          "font": {
           "color": "#000000"
          },
          "showarrow": false,
          "text": "1",
          "x": "2",
          "xref": "x",
          "y": "Selasa",
          "yref": "y"
         },
         {
          "font": {
           "color": "#000000"
          },
          "showarrow": false,
          "text": "20",
          "x": "3",
          "xref": "x",
          "y": "Selasa",
          "yref": "y"
         },
         {
          "font": {
           "color": "#000000"
          },
          "showarrow": false,
          "text": "65",
          "x": "4",
          "xref": "x",
          "y": "Selasa",
          "yref": "y"
         },
         {
          "font": {
           "color": "#000000"
          },
          "showarrow": false,
          "text": "107",
          "x": "5",
          "xref": "x",
          "y": "Selasa",
          "yref": "y"
         },
         {
          "font": {
           "color": "#000000"
          },
          "showarrow": false,
          "text": "266",
          "x": "6",
          "xref": "x",
          "y": "Selasa",
          "yref": "y"
         },
         {
          "font": {
           "color": "#000000"
          },
          "showarrow": false,
          "text": "252",
          "x": "7",
          "xref": "x",
          "y": "Selasa",
          "yref": "y"
         },
         {
          "font": {
           "color": "#000000"
          },
          "showarrow": false,
          "text": "386",
          "x": "8",
          "xref": "x",
          "y": "Selasa",
          "yref": "y"
         },
         {
          "font": {
           "color": "#000000"
          },
          "showarrow": false,
          "text": "323",
          "x": "9",
          "xref": "x",
          "y": "Selasa",
          "yref": "y"
         },
         {
          "font": {
           "color": "#000000"
          },
          "showarrow": false,
          "text": "198",
          "x": "10",
          "xref": "x",
          "y": "Selasa",
          "yref": "y"
         },
         {
          "font": {
           "color": "#000000"
          },
          "showarrow": false,
          "text": "370",
          "x": "11",
          "xref": "x",
          "y": "Selasa",
          "yref": "y"
         },
         {
          "font": {
           "color": "#000000"
          },
          "showarrow": false,
          "text": "169",
          "x": "12",
          "xref": "x",
          "y": "Selasa",
          "yref": "y"
         },
         {
          "font": {
           "color": "#000000"
          },
          "showarrow": false,
          "text": "276",
          "x": "13",
          "xref": "x",
          "y": "Selasa",
          "yref": "y"
         },
         {
          "font": {
           "color": "#000000"
          },
          "showarrow": false,
          "text": "402",
          "x": "14",
          "xref": "x",
          "y": "Selasa",
          "yref": "y"
         },
         {
          "font": {
           "color": "#000000"
          },
          "showarrow": false,
          "text": "230",
          "x": "15",
          "xref": "x",
          "y": "Selasa",
          "yref": "y"
         },
         {
          "font": {
           "color": "#000000"
          },
          "showarrow": false,
          "text": "161",
          "x": "16",
          "xref": "x",
          "y": "Selasa",
          "yref": "y"
         },
         {
          "font": {
           "color": "#FFFFFF"
          },
          "showarrow": false,
          "text": "527",
          "x": "17",
          "xref": "x",
          "y": "Selasa",
          "yref": "y"
         },
         {
          "font": {
           "color": "#FFFFFF"
          },
          "showarrow": false,
          "text": "548",
          "x": "18",
          "xref": "x",
          "y": "Selasa",
          "yref": "y"
         },
         {
          "font": {
           "color": "#000000"
          },
          "showarrow": false,
          "text": "356",
          "x": "19",
          "xref": "x",
          "y": "Selasa",
          "yref": "y"
         },
         {
          "font": {
           "color": "#000000"
          },
          "showarrow": false,
          "text": "438",
          "x": "20",
          "xref": "x",
          "y": "Selasa",
          "yref": "y"
         },
         {
          "font": {
           "color": "#FFFFFF"
          },
          "showarrow": false,
          "text": "519",
          "x": "21",
          "xref": "x",
          "y": "Selasa",
          "yref": "y"
         },
         {
          "font": {
           "color": "#FFFFFF"
          },
          "showarrow": false,
          "text": "465",
          "x": "22",
          "xref": "x",
          "y": "Selasa",
          "yref": "y"
         },
         {
          "font": {
           "color": "#FFFFFF"
          },
          "showarrow": false,
          "text": "627",
          "x": "23",
          "xref": "x",
          "y": "Selasa",
          "yref": "y"
         },
         {
          "font": {
           "color": "#000000"
          },
          "showarrow": false,
          "text": "294",
          "x": "0",
          "xref": "x",
          "y": "Rabu",
          "yref": "y"
         },
         {
          "font": {
           "color": "#000000"
          },
          "showarrow": false,
          "text": "12",
          "x": "1",
          "xref": "x",
          "y": "Rabu",
          "yref": "y"
         },
         {
          "font": {
           "color": "#000000"
          },
          "showarrow": false,
          "text": "2",
          "x": "2",
          "xref": "x",
          "y": "Rabu",
          "yref": "y"
         },
         {
          "font": {
           "color": "#000000"
          },
          "showarrow": false,
          "text": "65",
          "x": "3",
          "xref": "x",
          "y": "Rabu",
          "yref": "y"
         },
         {
          "font": {
           "color": "#000000"
          },
          "showarrow": false,
          "text": "120",
          "x": "4",
          "xref": "x",
          "y": "Rabu",
          "yref": "y"
         },
         {
          "font": {
           "color": "#000000"
          },
          "showarrow": false,
          "text": "73",
          "x": "5",
          "xref": "x",
          "y": "Rabu",
          "yref": "y"
         },
         {
          "font": {
           "color": "#000000"
          },
          "showarrow": false,
          "text": "111",
          "x": "6",
          "xref": "x",
          "y": "Rabu",
          "yref": "y"
         },
         {
          "font": {
           "color": "#FFFFFF"
          },
          "showarrow": false,
          "text": "474",
          "x": "7",
          "xref": "x",
          "y": "Rabu",
          "yref": "y"
         },
         {
          "font": {
           "color": "#000000"
          },
          "showarrow": false,
          "text": "218",
          "x": "8",
          "xref": "x",
          "y": "Rabu",
          "yref": "y"
         },
         {
          "font": {
           "color": "#000000"
          },
          "showarrow": false,
          "text": "137",
          "x": "9",
          "xref": "x",
          "y": "Rabu",
          "yref": "y"
         },
         {
          "font": {
           "color": "#000000"
          },
          "showarrow": false,
          "text": "142",
          "x": "10",
          "xref": "x",
          "y": "Rabu",
          "yref": "y"
         },
         {
          "font": {
           "color": "#000000"
          },
          "showarrow": false,
          "text": "314",
          "x": "11",
          "xref": "x",
          "y": "Rabu",
          "yref": "y"
         },
         {
          "font": {
           "color": "#000000"
          },
          "showarrow": false,
          "text": "381",
          "x": "12",
          "xref": "x",
          "y": "Rabu",
          "yref": "y"
         },
         {
          "font": {
           "color": "#000000"
          },
          "showarrow": false,
          "text": "360",
          "x": "13",
          "xref": "x",
          "y": "Rabu",
          "yref": "y"
         },
         {
          "font": {
           "color": "#FFFFFF"
          },
          "showarrow": false,
          "text": "451",
          "x": "14",
          "xref": "x",
          "y": "Rabu",
          "yref": "y"
         },
         {
          "font": {
           "color": "#000000"
          },
          "showarrow": false,
          "text": "400",
          "x": "15",
          "xref": "x",
          "y": "Rabu",
          "yref": "y"
         },
         {
          "font": {
           "color": "#000000"
          },
          "showarrow": false,
          "text": "249",
          "x": "16",
          "xref": "x",
          "y": "Rabu",
          "yref": "y"
         },
         {
          "font": {
           "color": "#000000"
          },
          "showarrow": false,
          "text": "200",
          "x": "17",
          "xref": "x",
          "y": "Rabu",
          "yref": "y"
         },
         {
          "font": {
           "color": "#FFFFFF"
          },
          "showarrow": false,
          "text": "490",
          "x": "18",
          "xref": "x",
          "y": "Rabu",
          "yref": "y"
         },
         {
          "font": {
           "color": "#000000"
          },
          "showarrow": false,
          "text": "425",
          "x": "19",
          "xref": "x",
          "y": "Rabu",
          "yref": "y"
         },
         {
          "font": {
           "color": "#FFFFFF"
          },
          "showarrow": false,
          "text": "646",
          "x": "20",
          "xref": "x",
          "y": "Rabu",
          "yref": "y"
         },
         {
          "font": {
           "color": "#FFFFFF"
          },
          "showarrow": false,
          "text": "647",
          "x": "21",
          "xref": "x",
          "y": "Rabu",
          "yref": "y"
         },
         {
          "font": {
           "color": "#FFFFFF"
          },
          "showarrow": false,
          "text": "712",
          "x": "22",
          "xref": "x",
          "y": "Rabu",
          "yref": "y"
         },
         {
          "font": {
           "color": "#FFFFFF"
          },
          "showarrow": false,
          "text": "552",
          "x": "23",
          "xref": "x",
          "y": "Rabu",
          "yref": "y"
         },
         {
          "font": {
           "color": "#000000"
          },
          "showarrow": false,
          "text": "322",
          "x": "0",
          "xref": "x",
          "y": "Kamis",
          "yref": "y"
         },
         {
          "font": {
           "color": "#000000"
          },
          "showarrow": false,
          "text": "114",
          "x": "1",
          "xref": "x",
          "y": "Kamis",
          "yref": "y"
         },
         {
          "font": {
           "color": "#000000"
          },
          "showarrow": false,
          "text": "15",
          "x": "2",
          "xref": "x",
          "y": "Kamis",
          "yref": "y"
         },
         {
          "font": {
           "color": "#000000"
          },
          "showarrow": false,
          "text": "188",
          "x": "3",
          "xref": "x",
          "y": "Kamis",
          "yref": "y"
         },
         {
          "font": {
           "color": "#000000"
          },
          "showarrow": false,
          "text": "36",
          "x": "4",
          "xref": "x",
          "y": "Kamis",
          "yref": "y"
         },
         {
          "font": {
           "color": "#000000"
          },
          "showarrow": false,
          "text": "40",
          "x": "5",
          "xref": "x",
          "y": "Kamis",
          "yref": "y"
         },
         {
          "font": {
           "color": "#000000"
          },
          "showarrow": false,
          "text": "423",
          "x": "6",
          "xref": "x",
          "y": "Kamis",
          "yref": "y"
         },
         {
          "font": {
           "color": "#000000"
          },
          "showarrow": false,
          "text": "362",
          "x": "7",
          "xref": "x",
          "y": "Kamis",
          "yref": "y"
         },
         {
          "font": {
           "color": "#000000"
          },
          "showarrow": false,
          "text": "202",
          "x": "8",
          "xref": "x",
          "y": "Kamis",
          "yref": "y"
         },
         {
          "font": {
           "color": "#000000"
          },
          "showarrow": false,
          "text": "231",
          "x": "9",
          "xref": "x",
          "y": "Kamis",
          "yref": "y"
         },
         {
          "font": {
           "color": "#000000"
          },
          "showarrow": false,
          "text": "219",
          "x": "10",
          "xref": "x",
          "y": "Kamis",
          "yref": "y"
         },
         {
          "font": {
           "color": "#000000"
          },
          "showarrow": false,
          "text": "343",
          "x": "11",
          "xref": "x",
          "y": "Kamis",
          "yref": "y"
         },
         {
          "font": {
           "color": "#FFFFFF"
          },
          "showarrow": false,
          "text": "482",
          "x": "12",
          "xref": "x",
          "y": "Kamis",
          "yref": "y"
         },
         {
          "font": {
           "color": "#000000"
          },
          "showarrow": false,
          "text": "326",
          "x": "13",
          "xref": "x",
          "y": "Kamis",
          "yref": "y"
         },
         {
          "font": {
           "color": "#000000"
          },
          "showarrow": false,
          "text": "332",
          "x": "14",
          "xref": "x",
          "y": "Kamis",
          "yref": "y"
         },
         {
          "font": {
           "color": "#FFFFFF"
          },
          "showarrow": false,
          "text": "494",
          "x": "15",
          "xref": "x",
          "y": "Kamis",
          "yref": "y"
         },
         {
          "font": {
           "color": "#000000"
          },
          "showarrow": false,
          "text": "196",
          "x": "16",
          "xref": "x",
          "y": "Kamis",
          "yref": "y"
         },
         {
          "font": {
           "color": "#000000"
          },
          "showarrow": false,
          "text": "365",
          "x": "17",
          "xref": "x",
          "y": "Kamis",
          "yref": "y"
         },
         {
          "font": {
           "color": "#FFFFFF"
          },
          "showarrow": false,
          "text": "691",
          "x": "18",
          "xref": "x",
          "y": "Kamis",
          "yref": "y"
         },
         {
          "font": {
           "color": "#FFFFFF"
          },
          "showarrow": false,
          "text": "479",
          "x": "19",
          "xref": "x",
          "y": "Kamis",
          "yref": "y"
         },
         {
          "font": {
           "color": "#FFFFFF"
          },
          "showarrow": false,
          "text": "611",
          "x": "20",
          "xref": "x",
          "y": "Kamis",
          "yref": "y"
         },
         {
          "font": {
           "color": "#FFFFFF"
          },
          "showarrow": false,
          "text": "508",
          "x": "21",
          "xref": "x",
          "y": "Kamis",
          "yref": "y"
         },
         {
          "font": {
           "color": "#FFFFFF"
          },
          "showarrow": false,
          "text": "745",
          "x": "22",
          "xref": "x",
          "y": "Kamis",
          "yref": "y"
         },
         {
          "font": {
           "color": "#000000"
          },
          "showarrow": false,
          "text": "379",
          "x": "23",
          "xref": "x",
          "y": "Kamis",
          "yref": "y"
         },
         {
          "font": {
           "color": "#000000"
          },
          "showarrow": false,
          "text": "207",
          "x": "0",
          "xref": "x",
          "y": "Jumat",
          "yref": "y"
         },
         {
          "font": {
           "color": "#000000"
          },
          "showarrow": false,
          "text": "125",
          "x": "1",
          "xref": "x",
          "y": "Jumat",
          "yref": "y"
         },
         {
          "font": {
           "color": "#000000"
          },
          "showarrow": false,
          "text": "74",
          "x": "2",
          "xref": "x",
          "y": "Jumat",
          "yref": "y"
         },
         {
          "font": {
           "color": "#000000"
          },
          "showarrow": false,
          "text": "36",
          "x": "3",
          "xref": "x",
          "y": "Jumat",
          "yref": "y"
         },
         {
          "font": {
           "color": "#000000"
          },
          "showarrow": false,
          "text": "30",
          "x": "4",
          "xref": "x",
          "y": "Jumat",
          "yref": "y"
         },
         {
          "font": {
           "color": "#000000"
          },
          "showarrow": false,
          "text": "165",
          "x": "5",
          "xref": "x",
          "y": "Jumat",
          "yref": "y"
         },
         {
          "font": {
           "color": "#000000"
          },
          "showarrow": false,
          "text": "137",
          "x": "6",
          "xref": "x",
          "y": "Jumat",
          "yref": "y"
         },
         {
          "font": {
           "color": "#000000"
          },
          "showarrow": false,
          "text": "258",
          "x": "7",
          "xref": "x",
          "y": "Jumat",
          "yref": "y"
         },
         {
          "font": {
           "color": "#000000"
          },
          "showarrow": false,
          "text": "181",
          "x": "8",
          "xref": "x",
          "y": "Jumat",
          "yref": "y"
         },
         {
          "font": {
           "color": "#000000"
          },
          "showarrow": false,
          "text": "247",
          "x": "9",
          "xref": "x",
          "y": "Jumat",
          "yref": "y"
         },
         {
          "font": {
           "color": "#000000"
          },
          "showarrow": false,
          "text": "252",
          "x": "10",
          "xref": "x",
          "y": "Jumat",
          "yref": "y"
         },
         {
          "font": {
           "color": "#000000"
          },
          "showarrow": false,
          "text": "286",
          "x": "11",
          "xref": "x",
          "y": "Jumat",
          "yref": "y"
         },
         {
          "font": {
           "color": "#000000"
          },
          "showarrow": false,
          "text": "191",
          "x": "12",
          "xref": "x",
          "y": "Jumat",
          "yref": "y"
         },
         {
          "font": {
           "color": "#FFFFFF"
          },
          "showarrow": false,
          "text": "455",
          "x": "13",
          "xref": "x",
          "y": "Jumat",
          "yref": "y"
         },
         {
          "font": {
           "color": "#000000"
          },
          "showarrow": false,
          "text": "251",
          "x": "14",
          "xref": "x",
          "y": "Jumat",
          "yref": "y"
         },
         {
          "font": {
           "color": "#000000"
          },
          "showarrow": false,
          "text": "268",
          "x": "15",
          "xref": "x",
          "y": "Jumat",
          "yref": "y"
         },
         {
          "font": {
           "color": "#000000"
          },
          "showarrow": false,
          "text": "271",
          "x": "16",
          "xref": "x",
          "y": "Jumat",
          "yref": "y"
         },
         {
          "font": {
           "color": "#000000"
          },
          "showarrow": false,
          "text": "341",
          "x": "17",
          "xref": "x",
          "y": "Jumat",
          "yref": "y"
         },
         {
          "font": {
           "color": "#000000"
          },
          "showarrow": false,
          "text": "331",
          "x": "18",
          "xref": "x",
          "y": "Jumat",
          "yref": "y"
         },
         {
          "font": {
           "color": "#000000"
          },
          "showarrow": false,
          "text": "362",
          "x": "19",
          "xref": "x",
          "y": "Jumat",
          "yref": "y"
         },
         {
          "font": {
           "color": "#FFFFFF"
          },
          "showarrow": false,
          "text": "842",
          "x": "20",
          "xref": "x",
          "y": "Jumat",
          "yref": "y"
         },
         {
          "font": {
           "color": "#FFFFFF"
          },
          "showarrow": false,
          "text": "892",
          "x": "21",
          "xref": "x",
          "y": "Jumat",
          "yref": "y"
         },
         {
          "font": {
           "color": "#FFFFFF"
          },
          "showarrow": false,
          "text": "605",
          "x": "22",
          "xref": "x",
          "y": "Jumat",
          "yref": "y"
         },
         {
          "font": {
           "color": "#FFFFFF"
          },
          "showarrow": false,
          "text": "554",
          "x": "23",
          "xref": "x",
          "y": "Jumat",
          "yref": "y"
         },
         {
          "font": {
           "color": "#FFFFFF"
          },
          "showarrow": false,
          "text": "504",
          "x": "0",
          "xref": "x",
          "y": "Sabtu",
          "yref": "y"
         },
         {
          "font": {
           "color": "#000000"
          },
          "showarrow": false,
          "text": "154",
          "x": "1",
          "xref": "x",
          "y": "Sabtu",
          "yref": "y"
         },
         {
          "font": {
           "color": "#000000"
          },
          "showarrow": false,
          "text": "134",
          "x": "2",
          "xref": "x",
          "y": "Sabtu",
          "yref": "y"
         },
         {
          "font": {
           "color": "#000000"
          },
          "showarrow": false,
          "text": "114",
          "x": "3",
          "xref": "x",
          "y": "Sabtu",
          "yref": "y"
         },
         {
          "font": {
           "color": "#000000"
          },
          "showarrow": false,
          "text": "134",
          "x": "4",
          "xref": "x",
          "y": "Sabtu",
          "yref": "y"
         },
         {
          "font": {
           "color": "#000000"
          },
          "showarrow": false,
          "text": "66",
          "x": "5",
          "xref": "x",
          "y": "Sabtu",
          "yref": "y"
         },
         {
          "font": {
           "color": "#000000"
          },
          "showarrow": false,
          "text": "178",
          "x": "6",
          "xref": "x",
          "y": "Sabtu",
          "yref": "y"
         },
         {
          "font": {
           "color": "#000000"
          },
          "showarrow": false,
          "text": "266",
          "x": "7",
          "xref": "x",
          "y": "Sabtu",
          "yref": "y"
         },
         {
          "font": {
           "color": "#000000"
          },
          "showarrow": false,
          "text": "371",
          "x": "8",
          "xref": "x",
          "y": "Sabtu",
          "yref": "y"
         },
         {
          "font": {
           "color": "#000000"
          },
          "showarrow": false,
          "text": "271",
          "x": "9",
          "xref": "x",
          "y": "Sabtu",
          "yref": "y"
         },
         {
          "font": {
           "color": "#000000"
          },
          "showarrow": false,
          "text": "259",
          "x": "10",
          "xref": "x",
          "y": "Sabtu",
          "yref": "y"
         },
         {
          "font": {
           "color": "#000000"
          },
          "showarrow": false,
          "text": "220",
          "x": "11",
          "xref": "x",
          "y": "Sabtu",
          "yref": "y"
         },
         {
          "font": {
           "color": "#000000"
          },
          "showarrow": false,
          "text": "273",
          "x": "12",
          "xref": "x",
          "y": "Sabtu",
          "yref": "y"
         },
         {
          "font": {
           "color": "#000000"
          },
          "showarrow": false,
          "text": "186",
          "x": "13",
          "xref": "x",
          "y": "Sabtu",
          "yref": "y"
         },
         {
          "font": {
           "color": "#000000"
          },
          "showarrow": false,
          "text": "418",
          "x": "14",
          "xref": "x",
          "y": "Sabtu",
          "yref": "y"
         },
         {
          "font": {
           "color": "#000000"
          },
          "showarrow": false,
          "text": "339",
          "x": "15",
          "xref": "x",
          "y": "Sabtu",
          "yref": "y"
         },
         {
          "font": {
           "color": "#000000"
          },
          "showarrow": false,
          "text": "250",
          "x": "16",
          "xref": "x",
          "y": "Sabtu",
          "yref": "y"
         },
         {
          "font": {
           "color": "#FFFFFF"
          },
          "showarrow": false,
          "text": "484",
          "x": "17",
          "xref": "x",
          "y": "Sabtu",
          "yref": "y"
         },
         {
          "font": {
           "color": "#FFFFFF"
          },
          "showarrow": false,
          "text": "533",
          "x": "18",
          "xref": "x",
          "y": "Sabtu",
          "yref": "y"
         },
         {
          "font": {
           "color": "#000000"
          },
          "showarrow": false,
          "text": "212",
          "x": "19",
          "xref": "x",
          "y": "Sabtu",
          "yref": "y"
         },
         {
          "font": {
           "color": "#000000"
          },
          "showarrow": false,
          "text": "371",
          "x": "20",
          "xref": "x",
          "y": "Sabtu",
          "yref": "y"
         },
         {
          "font": {
           "color": "#FFFFFF"
          },
          "showarrow": false,
          "text": "541",
          "x": "21",
          "xref": "x",
          "y": "Sabtu",
          "yref": "y"
         },
         {
          "font": {
           "color": "#000000"
          },
          "showarrow": false,
          "text": "441",
          "x": "22",
          "xref": "x",
          "y": "Sabtu",
          "yref": "y"
         },
         {
          "font": {
           "color": "#000000"
          },
          "showarrow": false,
          "text": "313",
          "x": "23",
          "xref": "x",
          "y": "Sabtu",
          "yref": "y"
         },
         {
          "font": {
           "color": "#000000"
          },
          "showarrow": false,
          "text": "62",
          "x": "0",
          "xref": "x",
          "y": "Minggu",
          "yref": "y"
         },
         {
          "font": {
           "color": "#000000"
          },
          "showarrow": false,
          "text": "16",
          "x": "1",
          "xref": "x",
          "y": "Minggu",
          "yref": "y"
         },
         {
          "font": {
           "color": "#000000"
          },
          "showarrow": false,
          "text": "17",
          "x": "2",
          "xref": "x",
          "y": "Minggu",
          "yref": "y"
         },
         {
          "font": {
           "color": "#000000"
          },
          "showarrow": false,
          "text": "22",
          "x": "3",
          "xref": "x",
          "y": "Minggu",
          "yref": "y"
         },
         {
          "font": {
           "color": "#000000"
          },
          "showarrow": false,
          "text": "50",
          "x": "4",
          "xref": "x",
          "y": "Minggu",
          "yref": "y"
         },
         {
          "font": {
           "color": "#000000"
          },
          "showarrow": false,
          "text": "42",
          "x": "5",
          "xref": "x",
          "y": "Minggu",
          "yref": "y"
         },
         {
          "font": {
           "color": "#000000"
          },
          "showarrow": false,
          "text": "229",
          "x": "6",
          "xref": "x",
          "y": "Minggu",
          "yref": "y"
         },
         {
          "font": {
           "color": "#000000"
          },
          "showarrow": false,
          "text": "430",
          "x": "7",
          "xref": "x",
          "y": "Minggu",
          "yref": "y"
         },
         {
          "font": {
           "color": "#000000"
          },
          "showarrow": false,
          "text": "213",
          "x": "8",
          "xref": "x",
          "y": "Minggu",
          "yref": "y"
         },
         {
          "font": {
           "color": "#000000"
          },
          "showarrow": false,
          "text": "237",
          "x": "9",
          "xref": "x",
          "y": "Minggu",
          "yref": "y"
         },
         {
          "font": {
           "color": "#000000"
          },
          "showarrow": false,
          "text": "341",
          "x": "10",
          "xref": "x",
          "y": "Minggu",
          "yref": "y"
         },
         {
          "font": {
           "color": "#000000"
          },
          "showarrow": false,
          "text": "423",
          "x": "11",
          "xref": "x",
          "y": "Minggu",
          "yref": "y"
         },
         {
          "font": {
           "color": "#000000"
          },
          "showarrow": false,
          "text": "348",
          "x": "12",
          "xref": "x",
          "y": "Minggu",
          "yref": "y"
         },
         {
          "font": {
           "color": "#000000"
          },
          "showarrow": false,
          "text": "301",
          "x": "13",
          "xref": "x",
          "y": "Minggu",
          "yref": "y"
         },
         {
          "font": {
           "color": "#FFFFFF"
          },
          "showarrow": false,
          "text": "479",
          "x": "14",
          "xref": "x",
          "y": "Minggu",
          "yref": "y"
         },
         {
          "font": {
           "color": "#000000"
          },
          "showarrow": false,
          "text": "244",
          "x": "15",
          "xref": "x",
          "y": "Minggu",
          "yref": "y"
         },
         {
          "font": {
           "color": "#000000"
          },
          "showarrow": false,
          "text": "410",
          "x": "16",
          "xref": "x",
          "y": "Minggu",
          "yref": "y"
         },
         {
          "font": {
           "color": "#000000"
          },
          "showarrow": false,
          "text": "342",
          "x": "17",
          "xref": "x",
          "y": "Minggu",
          "yref": "y"
         },
         {
          "font": {
           "color": "#FFFFFF"
          },
          "showarrow": false,
          "text": "580",
          "x": "18",
          "xref": "x",
          "y": "Minggu",
          "yref": "y"
         },
         {
          "font": {
           "color": "#FFFFFF"
          },
          "showarrow": false,
          "text": "558",
          "x": "19",
          "xref": "x",
          "y": "Minggu",
          "yref": "y"
         },
         {
          "font": {
           "color": "#FFFFFF"
          },
          "showarrow": false,
          "text": "493",
          "x": "20",
          "xref": "x",
          "y": "Minggu",
          "yref": "y"
         },
         {
          "font": {
           "color": "#FFFFFF"
          },
          "showarrow": false,
          "text": "693",
          "x": "21",
          "xref": "x",
          "y": "Minggu",
          "yref": "y"
         },
         {
          "font": {
           "color": "#FFFFFF"
          },
          "showarrow": false,
          "text": "513",
          "x": "22",
          "xref": "x",
          "y": "Minggu",
          "yref": "y"
         },
         {
          "font": {
           "color": "#FFFFFF"
          },
          "showarrow": false,
          "text": "485",
          "x": "23",
          "xref": "x",
          "y": "Minggu",
          "yref": "y"
         }
        ],
        "template": {
         "data": {
          "bar": [
           {
            "error_x": {
             "color": "#2a3f5f"
            },
            "error_y": {
             "color": "#2a3f5f"
            },
            "marker": {
             "line": {
              "color": "#E5ECF6",
              "width": 0.5
             },
             "pattern": {
              "fillmode": "overlay",
              "size": 10,
              "solidity": 0.2
             }
            },
            "type": "bar"
           }
          ],
          "barpolar": [
           {
            "marker": {
             "line": {
              "color": "#E5ECF6",
              "width": 0.5
             },
             "pattern": {
              "fillmode": "overlay",
              "size": 10,
              "solidity": 0.2
             }
            },
            "type": "barpolar"
           }
          ],
          "carpet": [
           {
            "aaxis": {
             "endlinecolor": "#2a3f5f",
             "gridcolor": "white",
             "linecolor": "white",
             "minorgridcolor": "white",
             "startlinecolor": "#2a3f5f"
            },
            "baxis": {
             "endlinecolor": "#2a3f5f",
             "gridcolor": "white",
             "linecolor": "white",
             "minorgridcolor": "white",
             "startlinecolor": "#2a3f5f"
            },
            "type": "carpet"
           }
          ],
          "choropleth": [
           {
            "colorbar": {
             "outlinewidth": 0,
             "ticks": ""
            },
            "type": "choropleth"
           }
          ],
          "contour": [
           {
            "colorbar": {
             "outlinewidth": 0,
             "ticks": ""
            },
            "colorscale": [
             [
              0,
              "#0d0887"
             ],
             [
              0.1111111111111111,
              "#46039f"
             ],
             [
              0.2222222222222222,
              "#7201a8"
             ],
             [
              0.3333333333333333,
              "#9c179e"
             ],
             [
              0.4444444444444444,
              "#bd3786"
             ],
             [
              0.5555555555555556,
              "#d8576b"
             ],
             [
              0.6666666666666666,
              "#ed7953"
             ],
             [
              0.7777777777777778,
              "#fb9f3a"
             ],
             [
              0.8888888888888888,
              "#fdca26"
             ],
             [
              1,
              "#f0f921"
             ]
            ],
            "type": "contour"
           }
          ],
          "contourcarpet": [
           {
            "colorbar": {
             "outlinewidth": 0,
             "ticks": ""
            },
            "type": "contourcarpet"
           }
          ],
          "heatmap": [
           {
            "colorbar": {
             "outlinewidth": 0,
             "ticks": ""
            },
            "colorscale": [
             [
              0,
              "#0d0887"
             ],
             [
              0.1111111111111111,
              "#46039f"
             ],
             [
              0.2222222222222222,
              "#7201a8"
             ],
             [
              0.3333333333333333,
              "#9c179e"
             ],
             [
              0.4444444444444444,
              "#bd3786"
             ],
             [
              0.5555555555555556,
              "#d8576b"
             ],
             [
              0.6666666666666666,
              "#ed7953"
             ],
             [
              0.7777777777777778,
              "#fb9f3a"
             ],
             [
              0.8888888888888888,
              "#fdca26"
             ],
             [
              1,
              "#f0f921"
             ]
            ],
            "type": "heatmap"
           }
          ],
          "histogram": [
           {
            "marker": {
             "pattern": {
              "fillmode": "overlay",
              "size": 10,
              "solidity": 0.2
             }
            },
            "type": "histogram"
           }
          ],
          "histogram2d": [
           {
            "colorbar": {
             "outlinewidth": 0,
             "ticks": ""
            },
            "colorscale": [
             [
              0,
              "#0d0887"
             ],
             [
              0.1111111111111111,
              "#46039f"
             ],
             [
              0.2222222222222222,
              "#7201a8"
             ],
             [
              0.3333333333333333,
              "#9c179e"
             ],
             [
              0.4444444444444444,
              "#bd3786"
             ],
             [
              0.5555555555555556,
              "#d8576b"
             ],
             [
              0.6666666666666666,
              "#ed7953"
             ],
             [
              0.7777777777777778,
              "#fb9f3a"
             ],
             [
              0.8888888888888888,
              "#fdca26"
             ],
             [
              1,
              "#f0f921"
             ]
            ],
            "type": "histogram2d"
           }
          ],
          "histogram2dcontour": [
           {
            "colorbar": {
             "outlinewidth": 0,
             "ticks": ""
            },
            "colorscale": [
             [
              0,
              "#0d0887"
             ],
             [
              0.1111111111111111,
              "#46039f"
             ],
             [
              0.2222222222222222,
              "#7201a8"
             ],
             [
              0.3333333333333333,
              "#9c179e"
             ],
             [
              0.4444444444444444,
              "#bd3786"
             ],
             [
              0.5555555555555556,
              "#d8576b"
             ],
             [
              0.6666666666666666,
              "#ed7953"
             ],
             [
              0.7777777777777778,
              "#fb9f3a"
             ],
             [
              0.8888888888888888,
              "#fdca26"
             ],
             [
              1,
              "#f0f921"
             ]
            ],
            "type": "histogram2dcontour"
           }
          ],
          "mesh3d": [
           {
            "colorbar": {
             "outlinewidth": 0,
             "ticks": ""
            },
            "type": "mesh3d"
           }
          ],
          "parcoords": [
           {
            "line": {
             "colorbar": {
              "outlinewidth": 0,
              "ticks": ""
             }
            },
            "type": "parcoords"
           }
          ],
          "pie": [
           {
            "automargin": true,
            "type": "pie"
           }
          ],
          "scatter": [
           {
            "fillpattern": {
             "fillmode": "overlay",
             "size": 10,
             "solidity": 0.2
            },
            "type": "scatter"
           }
          ],
          "scatter3d": [
           {
            "line": {
             "colorbar": {
              "outlinewidth": 0,
              "ticks": ""
             }
            },
            "marker": {
             "colorbar": {
              "outlinewidth": 0,
              "ticks": ""
             }
            },
            "type": "scatter3d"
           }
          ],
          "scattercarpet": [
           {
            "marker": {
             "colorbar": {
              "outlinewidth": 0,
              "ticks": ""
             }
            },
            "type": "scattercarpet"
           }
          ],
          "scattergeo": [
           {
            "marker": {
             "colorbar": {
              "outlinewidth": 0,
              "ticks": ""
             }
            },
            "type": "scattergeo"
           }
          ],
          "scattergl": [
           {
            "marker": {
             "colorbar": {
              "outlinewidth": 0,
              "ticks": ""
             }
            },
            "type": "scattergl"
           }
          ],
          "scattermap": [
           {
            "marker": {
             "colorbar": {
              "outlinewidth": 0,
              "ticks": ""
             }
            },
            "type": "scattermap"
           }
          ],
          "scattermapbox": [
           {
            "marker": {
             "colorbar": {
              "outlinewidth": 0,
              "ticks": ""
             }
            },
            "type": "scattermapbox"
           }
          ],
          "scatterpolar": [
           {
            "marker": {
             "colorbar": {
              "outlinewidth": 0,
              "ticks": ""
             }
            },
            "type": "scatterpolar"
           }
          ],
          "scatterpolargl": [
           {
            "marker": {
             "colorbar": {
              "outlinewidth": 0,
              "ticks": ""
             }
            },
            "type": "scatterpolargl"
           }
          ],
          "scatterternary": [
           {
            "marker": {
             "colorbar": {
              "outlinewidth": 0,
              "ticks": ""
             }
            },
            "type": "scatterternary"
           }
          ],
          "surface": [
           {
            "colorbar": {
             "outlinewidth": 0,
             "ticks": ""
            },
            "colorscale": [
             [
              0,
              "#0d0887"
             ],
             [
              0.1111111111111111,
              "#46039f"
             ],
             [
              0.2222222222222222,
              "#7201a8"
             ],
             [
              0.3333333333333333,
              "#9c179e"
             ],
             [
              0.4444444444444444,
              "#bd3786"
             ],
             [
              0.5555555555555556,
              "#d8576b"
             ],
             [
              0.6666666666666666,
              "#ed7953"
             ],
             [
              0.7777777777777778,
              "#fb9f3a"
             ],
             [
              0.8888888888888888,
              "#fdca26"
             ],
             [
              1,
              "#f0f921"
             ]
            ],
            "type": "surface"
           }
          ],
          "table": [
           {
            "cells": {
             "fill": {
              "color": "#EBF0F8"
             },
             "line": {
              "color": "white"
             }
            },
            "header": {
             "fill": {
              "color": "#C8D4E3"
             },
             "line": {
              "color": "white"
             }
            },
            "type": "table"
           }
          ]
         },
         "layout": {
          "annotationdefaults": {
           "arrowcolor": "#2a3f5f",
           "arrowhead": 0,
           "arrowwidth": 1
          },
          "autotypenumbers": "strict",
          "coloraxis": {
           "colorbar": {
            "outlinewidth": 0,
            "ticks": ""
           }
          },
          "colorscale": {
           "diverging": [
            [
             0,
             "#8e0152"
            ],
            [
             0.1,
             "#c51b7d"
            ],
            [
             0.2,
             "#de77ae"
            ],
            [
             0.3,
             "#f1b6da"
            ],
            [
             0.4,
             "#fde0ef"
            ],
            [
             0.5,
             "#f7f7f7"
            ],
            [
             0.6,
             "#e6f5d0"
            ],
            [
             0.7,
             "#b8e186"
            ],
            [
             0.8,
             "#7fbc41"
            ],
            [
             0.9,
             "#4d9221"
            ],
            [
             1,
             "#276419"
            ]
           ],
           "sequential": [
            [
             0,
             "#0d0887"
            ],
            [
             0.1111111111111111,
             "#46039f"
            ],
            [
             0.2222222222222222,
             "#7201a8"
            ],
            [
             0.3333333333333333,
             "#9c179e"
            ],
            [
             0.4444444444444444,
             "#bd3786"
            ],
            [
             0.5555555555555556,
             "#d8576b"
            ],
            [
             0.6666666666666666,
             "#ed7953"
            ],
            [
             0.7777777777777778,
             "#fb9f3a"
            ],
            [
             0.8888888888888888,
             "#fdca26"
            ],
            [
             1,
             "#f0f921"
            ]
           ],
           "sequentialminus": [
            [
             0,
             "#0d0887"
            ],
            [
             0.1111111111111111,
             "#46039f"
            ],
            [
             0.2222222222222222,
             "#7201a8"
            ],
            [
             0.3333333333333333,
             "#9c179e"
            ],
            [
             0.4444444444444444,
             "#bd3786"
            ],
            [
             0.5555555555555556,
             "#d8576b"
            ],
            [
             0.6666666666666666,
             "#ed7953"
            ],
            [
             0.7777777777777778,
             "#fb9f3a"
            ],
            [
             0.8888888888888888,
             "#fdca26"
            ],
            [
             1,
             "#f0f921"
            ]
           ]
          },
          "colorway": [
           "#636efa",
           "#EF553B",
           "#00cc96",
           "#ab63fa",
           "#FFA15A",
           "#19d3f3",
           "#FF6692",
           "#B6E880",
           "#FF97FF",
           "#FECB52"
          ],
          "font": {
           "color": "#2a3f5f"
          },
          "geo": {
           "bgcolor": "white",
           "lakecolor": "white",
           "landcolor": "#E5ECF6",
           "showlakes": true,
           "showland": true,
           "subunitcolor": "white"
          },
          "hoverlabel": {
           "align": "left"
          },
          "hovermode": "closest",
          "mapbox": {
           "style": "light"
          },
          "paper_bgcolor": "white",
          "plot_bgcolor": "#E5ECF6",
          "polar": {
           "angularaxis": {
            "gridcolor": "white",
            "linecolor": "white",
            "ticks": ""
           },
           "bgcolor": "#E5ECF6",
           "radialaxis": {
            "gridcolor": "white",
            "linecolor": "white",
            "ticks": ""
           }
          },
          "scene": {
           "xaxis": {
            "backgroundcolor": "#E5ECF6",
            "gridcolor": "white",
            "gridwidth": 2,
            "linecolor": "white",
            "showbackground": true,
            "ticks": "",
            "zerolinecolor": "white"
           },
           "yaxis": {
            "backgroundcolor": "#E5ECF6",
            "gridcolor": "white",
            "gridwidth": 2,
            "linecolor": "white",
            "showbackground": true,
            "ticks": "",
            "zerolinecolor": "white"
           },
           "zaxis": {
            "backgroundcolor": "#E5ECF6",
            "gridcolor": "white",
            "gridwidth": 2,
            "linecolor": "white",
            "showbackground": true,
            "ticks": "",
            "zerolinecolor": "white"
           }
          },
          "shapedefaults": {
           "line": {
            "color": "#2a3f5f"
           }
          },
          "ternary": {
           "aaxis": {
            "gridcolor": "white",
            "linecolor": "white",
            "ticks": ""
           },
           "baxis": {
            "gridcolor": "white",
            "linecolor": "white",
            "ticks": ""
           },
           "bgcolor": "#E5ECF6",
           "caxis": {
            "gridcolor": "white",
            "linecolor": "white",
            "ticks": ""
           }
          },
          "title": {
           "x": 0.05
          },
          "xaxis": {
           "automargin": true,
           "gridcolor": "white",
           "linecolor": "white",
           "ticks": "",
           "title": {
            "standoff": 15
           },
           "zerolinecolor": "white",
           "zerolinewidth": 2
          },
          "yaxis": {
           "automargin": true,
           "gridcolor": "white",
           "linecolor": "white",
           "ticks": "",
           "title": {
            "standoff": 15
           },
           "zerolinecolor": "white",
           "zerolinewidth": 2
          }
         }
        },
        "title": {
         "text": "Heatmap Interaktif Jumlah Chat per Hari dan Jam"
        },
        "xaxis": {
         "dtick": 1,
         "gridcolor": "rgb(0, 0, 0)",
         "side": "top",
         "ticks": "",
         "title": {
          "text": "Jam (0-23)"
         }
        },
        "yaxis": {
         "dtick": 1,
         "ticks": "",
         "ticksuffix": "  ",
         "title": {
          "text": "Hari"
         }
        }
       }
      }
     },
     "metadata": {},
     "output_type": "display_data"
    }
   ],
   "source": [
    "import plotly.figure_factory as ff\n",
    "import numpy as np\n",
    "\n",
    "# pivot data hari x jam\n",
    "heatmap_data = df.groupby([df.index.dayofweek, df.index.hour]).size().unstack(fill_value=0)\n",
    "\n",
    "# mapping hari\n",
    "day_map = {0:\"Senin\", 1:\"Selasa\", 2:\"Rabu\", 3:\"Kamis\", 4:\"Jumat\", 5:\"Sabtu\", 6:\"Minggu\"}\n",
    "heatmap_data.index = heatmap_data.index.map(day_map)\n",
    "\n",
    "# buat annotated heatmap\n",
    "fig = ff.create_annotated_heatmap(\n",
    "    z=heatmap_data.values,\n",
    "    x=[str(h) for h in heatmap_data.columns],  # jam\n",
    "    y=list(heatmap_data.index),                # hari\n",
    "    annotation_text=heatmap_data.values,       # angka dalam kotak\n",
    "    colorscale=\"YlGnBu\",\n",
    "    showscale=True\n",
    ")\n",
    "\n",
    "fig.update_layout(\n",
    "    title=\"Heatmap Interaktif Jumlah Chat per Hari dan Jam\",\n",
    "    xaxis_title=\"Jam (0-23)\",\n",
    "    yaxis_title=\"Hari\"\n",
    ")\n",
    "\n",
    "fig.show()"
   ]
  },
  {
   "cell_type": "markdown",
   "id": "510867ea",
   "metadata": {},
   "source": [
    "# 📊 Analisis Intensitas Chat (Hari × Jam)\n",
    "\n",
    "## 🔥 Ringkasan Utama\n",
    "- Intensitas Chat **tersibuk**: 🕘 **Jam 21.00 WIB** pada **hari Senin**\n",
    "- Intensitas Chat **paling jarang**: 🌙 **Jam 03.00 WIB** pada **hari Sabtu**\n",
    "\n",
    "---\n",
    "\n",
    "## ⏰ Analisis Berdasarkan Jam\n",
    "- **Puncak aktivitas**: **20.00 – 22.00 WIB**\n",
    "  - Terutama **Jumat malam** → 🚀 **892 chat pada jam 21.00**\n",
    "- **Interpretasi**: Percakapan memuncak di malam hari, yaitu waktu pribadi setelah aktivitas utama selesai.\n",
    "\n",
    "---\n",
    "\n",
    "## 📅 Analisis Berdasarkan Hari\n",
    "- **Hari paling aktif**: **Senin dan Jumat**\n",
    "  - 📌 Senin malam → konsisten tinggi (646–688 chat)\n",
    "  - 📌 Jumat malam → titik tertinggi mingguan (842–892 chat)\n",
    "- **Hari paling sepi**: 💤 **Sabtu**, jumlah chat lebih rendah dibanding weekdays\n",
    "\n",
    "---\n",
    "\n",
    "## 🌙 Analisis Jam Sepi (Dini Hari)\n",
    "- Rentang **01.00 – 05.00 WIB** → hampir tidak ada percakapan di semua hari\n",
    "- 😴 Hal ini wajar karena merupakan jam tidur\n",
    "\n",
    "---\n",
    "\n",
    "## 📈 Pola Umum\n",
    "- Aktivitas mulai naik sekitar **07.00–08.00 WIB** dan stabil sepanjang siang\n",
    "- Lonjakan besar terjadi di **malam (18.00–22.00 WIB)**\n",
    "- **Weekend (Sabtu–Minggu)** tetap aktif, tapi tidak setinggi Senin atau Jumat\n",
    "\n",
    "---\n",
    "\n",
    "### 📝 Kesimpulan\n",
    "Komunikasi berlangsung rutin dan konsisten, dengan intensitas tertinggi di malam hari.  \n",
    "💡 Ini menunjukkan percakapan bersifat **personal** dan bukan hanya sekadar formal.\n",
    "\n",
    "## Pertanyaanya apakah chat tersebut membahas kegiatan di hari kerja dibandingkan liburan?\n"
   ]
  },
  {
   "cell_type": "markdown",
   "id": "76a17ec1",
   "metadata": {},
   "source": [
    "## Analisis partisipan "
   ]
  },
  {
   "cell_type": "code",
   "execution_count": 34,
   "id": "870cb9b6",
   "metadata": {},
   "outputs": [
    {
     "name": "stdout",
     "output_type": "stream",
     "text": [
      "Nama\n",
      "Puguh UKKI'23    27450\n",
      "via              26002\n",
      "Name: count, dtype: int64\n"
     ]
    },
    {
     "data": {
      "image/png": "[encoded data removed]",
      "text/plain": [
       "<Figure size 1000x500 with 1 Axes>"
      ]
     },
     "metadata": {},
     "output_type": "display_data"
    }
   ],
   "source": [
    "\n",
    "# hitung jumlah chat per partisipan\n",
    "partisipan_counts = df[\"Nama\"].value_counts()\n",
    "\n",
    "print(partisipan_counts)\n",
    "\n",
    "# plot top 10 partisipan\n",
    "top10 = partisipan_counts.head(10)\n",
    "\n",
    "plt.figure(figsize=(10,5))\n",
    "top10.plot(kind=\"bar\", color=\"skyblue\", grid=True, title=\"Top 10 Partisipan Paling Aktif\")\n",
    "plt.ylabel(\"Jumlah Pesan\")\n",
    "plt.xlabel(\"Partisipan\")\n",
    "plt.xticks(rotation=45, ha=\"right\")\n",
    "\n",
    "# tambahkan angka di atas batang\n",
    "for i, val in enumerate(top10.values):\n",
    "    plt.text(i, val + 5, str(val), ha=\"center\")\n",
    "\n",
    "plt.tight_layout()\n",
    "plt.show()\n"
   ]
  },
  {
   "cell_type": "code",
   "execution_count": 39,
   "id": "40d844e6",
   "metadata": {},
   "outputs": [
    {
     "data": {
      "image/png": "[encoded data removed]",
      "text/plain": [
       "<Figure size 1400x500 with 2 Axes>"
      ]
     },
     "metadata": {},
     "output_type": "display_data"
    }
   ],
   "source": [
    "import matplotlib.pyplot as plt\n",
    "\n",
    "# hitung jumlah chat per Nama x Jam\n",
    "nama_jam = df.groupby([df[\"Nama\"], df.index.hour]).size().reset_index(name=\"Jumlah\")\n",
    "nama_jam.columns = [\"Nama\", \"Jam\", \"Jumlah\"]   # pastikan kolom jadi jelas\n",
    "\n",
    "# ambil top 5 jam tersibuk untuk setiap nama\n",
    "top5_via = nama_jam[nama_jam[\"Nama\"]==\"via\"].nlargest(5, \"Jumlah\")\n",
    "top5_puguh = nama_jam[nama_jam[\"Nama\"].str.contains(\"Puguh\")].nlargest(5, \"Jumlah\")\n",
    "\n",
    "# --- Plot berdampingan ---\n",
    "fig, axes = plt.subplots(1, 2, figsize=(14,5), sharey=True)\n",
    "\n",
    "# Via\n",
    "axes[0].bar(top5_via[\"Jam\"].astype(str), top5_via[\"Jumlah\"], color=\"skyblue\")\n",
    "axes[0].set_title(\"Top 5 Jam Tersibuk - Via\")\n",
    "axes[0].set_xlabel(\"Jam (0–23)\")\n",
    "axes[0].set_ylabel(\"Jumlah Pesan\")\n",
    "for i, (jam, val) in enumerate(zip(top5_via[\"Jam\"], top5_via[\"Jumlah\"])):\n",
    "    axes[0].text(i, val+5, str(val), ha=\"center\")\n",
    "\n",
    "# Puguh\n",
    "axes[1].bar(top5_puguh[\"Jam\"].astype(str), top5_puguh[\"Jumlah\"], color=\"lightgreen\")\n",
    "axes[1].set_title(\"Top 5 Jam Tersibuk - Puguh\")\n",
    "axes[1].set_xlabel(\"Jam (0–23)\")\n",
    "for i, (jam, val) in enumerate(zip(top5_puguh[\"Jam\"], top5_puguh[\"Jumlah\"])):\n",
    "    axes[1].text(i, val+5, str(val), ha=\"center\")\n",
    "\n",
    "plt.tight_layout()\n",
    "plt.show()\n"
   ]
  },
  {
   "cell_type": "code",
   "execution_count": 47,
   "id": "78b486a2",
   "metadata": {},
   "outputs": [
    {
     "data": {
      "image/png": "[encoded data removed]",
      "text/plain": [
       "<Figure size 1000x600 with 1 Axes>"
      ]
     },
     "metadata": {},
     "output_type": "display_data"
    }
   ],
   "source": [
    "import matplotlib.pyplot as plt\n",
    "\n",
    "# pastikan ada kolom Responder\n",
    "df_response = df_response.copy()\n",
    "df_response[\"Responder\"] = df_response[\"Next_Nama\"]\n",
    "\n",
    "# ubah ke jam\n",
    "df_response[\"Response_Hours\"] = df_response[\"Response_Time\"] / 60\n",
    "\n",
    "# ambil 10 balasan terlama (gabungan via + puguh)\n",
    "top10_all = df_response.nlargest(10, \"Response_Hours\")[[\"Responder\", \"Response_Hours\"]]\n",
    "\n",
    "# plot\n",
    "plt.figure(figsize=(10,6))\n",
    "bars = plt.barh(\n",
    "    range(1, 11),\n",
    "    top10_all[\"Response_Hours\"],\n",
    "    color=[\"skyblue\" if \"via\" in name.lower() else \"lightgreen\" for name in top10_all[\"Responder\"]]\n",
    ")\n",
    "plt.gca().invert_yaxis()\n",
    "plt.yticks(range(1, 11), [f\"{i}\" for i in range(1, 11)])\n",
    "plt.xlabel(\"Waktu Balas (jam)\")\n",
    "plt.title(\"Top 10 Balasan Paling Lama (Gabungan Via & Puguh)\")\n",
    "\n",
    "# tambahkan label jam + nama\n",
    "for i, (val, nama) in enumerate(zip(top10_all[\"Response_Hours\"], top10_all[\"Responder\"]), start=1):\n",
    "    plt.text(val+0.1, i, f\"{nama} ({val:.2f} jam)\", va=\"center\")\n",
    "\n",
    "plt.tight_layout()\n",
    "plt.show()\n"
   ]
  },
  {
   "cell_type": "code",
   "execution_count": 48,
   "id": "52be190a",
   "metadata": {},
   "outputs": [
    {
     "data": {
      "image/png": "[encoded data removed]",
      "text/plain": [
       "<Figure size 1400x600 with 2 Axes>"
      ]
     },
     "metadata": {},
     "output_type": "display_data"
    }
   ],
   "source": [
    "import matplotlib.pyplot as plt\n",
    "\n",
    "# ubah ke jam\n",
    "df_response = df_response.copy()\n",
    "df_response[\"Response_Hours\"] = df_response[\"Response_Time\"] / 60\n",
    "\n",
    "# --- Top 10 balasan terlama Via ---\n",
    "top10_via = df_response[df_response[\"Next_Nama\"]==\"via\"] \\\n",
    "    .nlargest(10, \"Response_Hours\")[[\"Nama\",\"Chat\",\"Next_Nama\",\"Response_Hours\"]]\n",
    "\n",
    "# --- Top 10 balasan terlama Puguh ---\n",
    "top10_puguh = df_response[df_response[\"Next_Nama\"].str.contains(\"Puguh\", na=False)] \\\n",
    "    .nlargest(10, \"Response_Hours\")[[\"Nama\",\"Chat\",\"Next_Nama\",\"Response_Hours\"]]\n",
    "\n",
    "# --- Plot berdampingan ---\n",
    "fig, axes = plt.subplots(1, 2, figsize=(14,6), sharey=True)\n",
    "\n",
    "# VIA\n",
    "axes[0].barh(range(1, 11), top10_via[\"Response_Hours\"], color=\"skyblue\")\n",
    "axes[0].set_yticks(range(1, 11))\n",
    "axes[0].set_yticklabels(range(1, 11))\n",
    "axes[0].invert_yaxis()\n",
    "axes[0].set_title(\"Top 10 Balasan Terlama - Via\")\n",
    "axes[0].set_xlabel(\"Jam\")\n",
    "axes[0].set_ylabel(\"Ranking\")\n",
    "for i, val in enumerate(top10_via[\"Response_Hours\"], start=1):\n",
    "    axes[0].text(val+0.1, i, f\"{val:.2f}\", va=\"center\")\n",
    "\n",
    "# PUGUH\n",
    "axes[1].barh(range(1, 11), top10_puguh[\"Response_Hours\"], color=\"lightgreen\")\n",
    "axes[1].set_yticks(range(1, 11))\n",
    "axes[1].set_yticklabels(range(1, 11))\n",
    "axes[1].invert_yaxis()\n",
    "axes[1].set_title(\"Top 10 Balasan Terlama - Puguh\")\n",
    "axes[1].set_xlabel(\"Jam\")\n",
    "for i, val in enumerate(top10_puguh[\"Response_Hours\"], start=1):\n",
    "    axes[1].text(val+0.1, i, f\"{val:.2f}\", va=\"center\")\n",
    "\n",
    "plt.tight_layout()\n",
    "plt.show()\n"
   ]
  },
  {
   "cell_type": "code",
   "execution_count": 49,
   "id": "940d9691",
   "metadata": {},
   "outputs": [
    {
     "name": "stdout",
     "output_type": "stream",
     "text": [
      "               Rata-rata (jam)  Median (jam)  StdDev (jam)  Maks (jam)  \\\n",
      "Next_Nama                                                                \n",
      "Puguh UKKI'23         0.191160      0.016667      0.943175   58.866667   \n",
      "via                   0.153598      0.016667      0.620852   18.583333   \n",
      "\n",
      "               Jumlah Balasan  \n",
      "Next_Nama                      \n",
      "Puguh UKKI'23      218.550000  \n",
      "via                218.533333  \n"
     ]
    }
   ],
   "source": [
    "# hitung statistik respon per orang\n",
    "stats = df_response.groupby(\"Next_Nama\")[\"Response_Time\"].agg(\n",
    "    mean=\"mean\",\n",
    "    median=\"median\",\n",
    "    std=\"std\",\n",
    "    max=\"max\",\n",
    "    count=\"count\"\n",
    ")\n",
    "\n",
    "# ubah menit ke jam biar lebih gampang dibaca\n",
    "stats = stats / 60\n",
    "stats = stats.rename(columns={\n",
    "    \"mean\": \"Rata-rata (jam)\",\n",
    "    \"median\": \"Median (jam)\",\n",
    "    \"std\": \"StdDev (jam)\",\n",
    "    \"max\": \"Maks (jam)\",\n",
    "    \"count\": \"Jumlah Balasan\"\n",
    "})\n",
    "\n",
    "print(stats)\n"
   ]
  },
  {
   "cell_type": "markdown",
   "id": "04af89b3",
   "metadata": {},
   "source": [
    "# ⏱️ Analisis Konsistensi Balasan \n",
    "\n",
    "## 1. Kecepatan Balas\n",
    "- **Via** sedikit lebih cepat: rata-rata **9 menit** dibanding **Puguh 11 menit**  \n",
    "- **Median** sama persis: ± **1 menit** → keduanya biasanya balas cepat kalau sedang aktif  \n",
    "\n",
    "---\n",
    "\n",
    "## 2. Konsistensi\n",
    "- **Via** lebih konsisten (StdDev = **0.62 jam**) dibanding **Puguh (0.94 jam**)  \n",
    "- Artinya variasi balasan Puguh lebih lebar: kadang cepat, kadang lama sekali  \n",
    "- **Via** lebih stabil dalam merespons  \n",
    "- Dilihat dari plot jam, mereka juga konsisten **chating disaat jam malam 18.00-22.00**\n",
    "\n",
    "---\n",
    "\n",
    "## 3. Slow Respon Ekstrem\n",
    "- **Puguh**: slow respon terlama **~59 jam (2,5 hari)**  \n",
    "- **Via**: slow respon terlama **~18,6 jam**  \n",
    "- 👉 Jika dilihat dari “ngilang paling lama”, **Puguh lebih sering slow respon**  \n",
    "- Dilihat dari plot juga **Puguh telah mengalahkan Via dalam TOP 10 balasan paling lama** \n",
    "\n",
    "---\n",
    "\n",
    "## 4. Volume Balasan\n",
    "- Jumlah balasan hampir **sama persis**: ± **218 balasan** per orang  \n",
    "- Komunikasi **seimbang**, tidak timpang  \n",
    "- Jika dilihat dari plot paling banyak mengirim pesan adalah **Puguh** dibandingkan dengan Via dengan **selsih ± 100 pesan**\n",
    "\n",
    "---\n",
    "\n",
    "## 📝 Kesimpulan\n",
    "- **Via** lebih **cepat & konsisten** dalam membalas  \n",
    "- **Puguh** kadang balas cepat, tapi lebih sering punya **outlier slow respon** (hingga 2,5 hari)  \n",
    "- Hubungan komunikasi keduanya bersifat **dua arah & seimbang**,  \n",
    "  meski kecenderungan **slow respon lebih sering di sisi Puguh**. Namun, **Puguh paling banyak** mengirimkan chat kepada Via dan mereka **sering mengobrol di jam malam**.\n",
    "\n",
    "  "
   ]
  }
 ],
 "metadata": {
  "kernelspec": {
   "display_name": "Python 3",
   "language": "python",
   "name": "python3"
  },
  "language_info": {
   "codemirror_mode": {
    "name": "ipython",
    "version": 3
   },
   "file_extension": ".py",
   "mimetype": "text/x-python",
   "name": "python",
   "nbconvert_exporter": "python",
   "pygments_lexer": "ipython3",
   "version": "3.11.9"
  }
 },
 "nbformat": 4,
 "nbformat_minor": 5
}
